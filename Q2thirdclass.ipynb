{
 "cells": [
  {
   "cell_type": "markdown",
   "metadata": {},
   "source": [
    "# Broadcasting"
   ]
  },
  {
   "cell_type": "code",
   "execution_count": 321,
   "metadata": {},
   "outputs": [],
   "source": [
    "# Using broadcast to cater matrices with different dimensions\n",
    "# one row and one column is ideal for broadcasting, may give errors in case of bigger dimension"
   ]
  },
  {
   "cell_type": "code",
   "execution_count": 322,
   "metadata": {},
   "outputs": [],
   "source": [
    "import numpy as np"
   ]
  },
  {
   "cell_type": "code",
   "execution_count": 323,
   "metadata": {},
   "outputs": [
    {
     "name": "stdout",
     "output_type": "stream",
     "text": [
      "[[1 2 3]]\n"
     ]
    },
    {
     "data": {
      "text/plain": [
       "(1, 3)"
      ]
     },
     "execution_count": 323,
     "metadata": {},
     "output_type": "execute_result"
    }
   ],
   "source": [
    "x = np.array([[1,2,3]])\n",
    "print(x)\n",
    "x.shape"
   ]
  },
  {
   "cell_type": "code",
   "execution_count": 324,
   "metadata": {},
   "outputs": [
    {
     "name": "stdout",
     "output_type": "stream",
     "text": [
      "[[4]\n",
      " [5]]\n"
     ]
    },
    {
     "data": {
      "text/plain": [
       "(2, 1)"
      ]
     },
     "execution_count": 324,
     "metadata": {},
     "output_type": "execute_result"
    }
   ],
   "source": [
    "y = np.array([[4],[5]])\n",
    "print(y)\n",
    "y.shape"
   ]
  },
  {
   "cell_type": "code",
   "execution_count": 325,
   "metadata": {},
   "outputs": [
    {
     "name": "stdout",
     "output_type": "stream",
     "text": [
      "[[1 2 3]\n",
      " [1 2 3]]\n",
      "(2, 3)\n",
      "[[4 4 4]\n",
      " [5 5 5]]\n",
      "(2, 3)\n"
     ]
    }
   ],
   "source": [
    "x,y = np.broadcast_arrays(x,y)\n",
    "print(x)\n",
    "print(x.shape)\n",
    "print(y)\n",
    "print(y.shape)"
   ]
  },
  {
   "cell_type": "code",
   "execution_count": 326,
   "metadata": {},
   "outputs": [
    {
     "data": {
      "text/plain": [
       "array([[5, 6, 7],\n",
       "       [6, 7, 8]])"
      ]
     },
     "execution_count": 326,
     "metadata": {},
     "output_type": "execute_result"
    }
   ],
   "source": [
    "x+y"
   ]
  },
  {
   "cell_type": "code",
   "execution_count": 327,
   "metadata": {},
   "outputs": [
    {
     "data": {
      "text/plain": [
       "array([[ 4,  8, 12],\n",
       "       [ 5, 10, 15]])"
      ]
     },
     "execution_count": 327,
     "metadata": {},
     "output_type": "execute_result"
    }
   ],
   "source": [
    "x*y"
   ]
  },
  {
   "cell_type": "markdown",
   "metadata": {},
   "source": [
    "# Pandas"
   ]
  },
  {
   "cell_type": "code",
   "execution_count": 328,
   "metadata": {},
   "outputs": [],
   "source": [
    "import pandas as pd"
   ]
  },
  {
   "cell_type": "code",
   "execution_count": 329,
   "metadata": {},
   "outputs": [],
   "source": [
    "# Pandas Data Structures\n",
    "# Series -- a sequence of number "
   ]
  },
  {
   "cell_type": "code",
   "execution_count": 330,
   "metadata": {},
   "outputs": [],
   "source": [
    "s1 = pd.Series([1,2,3,5,8,13])"
   ]
  },
  {
   "cell_type": "code",
   "execution_count": 331,
   "metadata": {},
   "outputs": [
    {
     "data": {
      "text/plain": [
       "0     1\n",
       "1     2\n",
       "2     3\n",
       "3     5\n",
       "4     8\n",
       "5    13\n",
       "dtype: int64"
      ]
     },
     "execution_count": 331,
     "metadata": {},
     "output_type": "execute_result"
    }
   ],
   "source": [
    "s1 # provides default index by series object\n",
    "   # here index acts as key (like dictionary key/values)\n",
    "   # position of newly inserted index does not matter"
   ]
  },
  {
   "cell_type": "code",
   "execution_count": 332,
   "metadata": {},
   "outputs": [
    {
     "data": {
      "text/plain": [
       "5"
      ]
     },
     "execution_count": 332,
     "metadata": {},
     "output_type": "execute_result"
    }
   ],
   "source": [
    "s1[3]"
   ]
  },
  {
   "cell_type": "code",
   "execution_count": 333,
   "metadata": {},
   "outputs": [
    {
     "data": {
      "text/plain": [
       "3     5\n",
       "4     8\n",
       "5    13\n",
       "dtype: int64"
      ]
     },
     "execution_count": 333,
     "metadata": {},
     "output_type": "execute_result"
    }
   ],
   "source": [
    "s1[[3,4,5]] # similar to fancy indexing, accessing multiple values\n",
    "            # list inside a list"
   ]
  },
  {
   "cell_type": "code",
   "execution_count": 334,
   "metadata": {},
   "outputs": [
    {
     "data": {
      "text/plain": [
       "0     1\n",
       "1     2\n",
       "2     4\n",
       "3     5\n",
       "4     8\n",
       "5    13\n",
       "dtype: int64"
      ]
     },
     "execution_count": 334,
     "metadata": {},
     "output_type": "execute_result"
    }
   ],
   "source": [
    "s1[2] = 4 # Modifying a value\n",
    "s1"
   ]
  },
  {
   "cell_type": "code",
   "execution_count": 335,
   "metadata": {},
   "outputs": [
    {
     "data": {
      "text/plain": [
       "0    66\n",
       "1    77\n",
       "2     4\n",
       "3     5\n",
       "4     8\n",
       "5    13\n",
       "dtype: int64"
      ]
     },
     "execution_count": 335,
     "metadata": {},
     "output_type": "execute_result"
    }
   ],
   "source": [
    "# Modifying multiple values as a bunch\n",
    "\n",
    "s1[[0,1]] = [66,77]\n",
    "s1"
   ]
  },
  {
   "cell_type": "code",
   "execution_count": 336,
   "metadata": {},
   "outputs": [
    {
     "data": {
      "text/plain": [
       "0    66\n",
       "1    77\n",
       "3     5\n",
       "4     8\n",
       "5    13\n",
       "dtype: int64"
      ]
     },
     "execution_count": 336,
     "metadata": {},
     "output_type": "execute_result"
    }
   ],
   "source": [
    "del s1[2] # deleting the index\n",
    "s1"
   ]
  },
  {
   "cell_type": "markdown",
   "metadata": {},
   "source": [
    "# ERROR"
   ]
  },
  {
   "cell_type": "code",
   "execution_count": 337,
   "metadata": {},
   "outputs": [],
   "source": [
    "# Multiple delete\n",
    "#del s1[[0,1]]\n",
    "#s1"
   ]
  },
  {
   "cell_type": "code",
   "execution_count": 338,
   "metadata": {},
   "outputs": [
    {
     "data": {
      "text/plain": [
       "0    66\n",
       "1    77\n",
       "3     5\n",
       "4     8\n",
       "5    13\n",
       "2     3\n",
       "dtype: int64"
      ]
     },
     "execution_count": 338,
     "metadata": {},
     "output_type": "execute_result"
    }
   ],
   "source": [
    "s1[2] = 3 # inserting a new index\n",
    "s1"
   ]
  },
  {
   "cell_type": "code",
   "execution_count": 341,
   "metadata": {},
   "outputs": [
    {
     "ename": "ValueError",
     "evalue": "[34 45 12] not contained in the index",
     "output_type": "error",
     "traceback": [
      "\u001b[1;31m---------------------------------------------------------------------------\u001b[0m",
      "\u001b[1;31mValueError\u001b[0m                                Traceback (most recent call last)",
      "\u001b[1;32m<ipython-input-341-b45a7e44107f>\u001b[0m in \u001b[0;36m<module>\u001b[1;34m\u001b[0m\n\u001b[0;32m      1\u001b[0m \u001b[1;31m# multiple insertion\u001b[0m\u001b[1;33m\u001b[0m\u001b[1;33m\u001b[0m\u001b[1;33m\u001b[0m\u001b[0m\n\u001b[0;32m      2\u001b[0m \u001b[1;33m\u001b[0m\u001b[0m\n\u001b[1;32m----> 3\u001b[1;33m \u001b[0ms1\u001b[0m\u001b[1;33m[\u001b[0m\u001b[1;33m[\u001b[0m\u001b[1;36m34\u001b[0m\u001b[1;33m,\u001b[0m\u001b[1;36m45\u001b[0m\u001b[1;33m,\u001b[0m\u001b[1;36m12\u001b[0m\u001b[1;33m]\u001b[0m\u001b[1;33m]\u001b[0m \u001b[1;33m=\u001b[0m \u001b[1;33m[\u001b[0m\u001b[1;36m33\u001b[0m\u001b[1;33m,\u001b[0m\u001b[1;36m44\u001b[0m\u001b[1;33m,\u001b[0m\u001b[1;36m55\u001b[0m\u001b[1;33m]\u001b[0m\u001b[1;33m\u001b[0m\u001b[1;33m\u001b[0m\u001b[0m\n\u001b[0m\u001b[0;32m      4\u001b[0m \u001b[0ms1\u001b[0m\u001b[1;33m\u001b[0m\u001b[1;33m\u001b[0m\u001b[0m\n",
      "\u001b[1;32mC:\\ProgramData\\Anaconda3\\lib\\site-packages\\pandas\\core\\series.py\u001b[0m in \u001b[0;36m__setitem__\u001b[1;34m(self, key, value)\u001b[0m\n\u001b[0;32m   1037\u001b[0m         \u001b[1;31m# do the setitem\u001b[0m\u001b[1;33m\u001b[0m\u001b[1;33m\u001b[0m\u001b[1;33m\u001b[0m\u001b[0m\n\u001b[0;32m   1038\u001b[0m         \u001b[0mcacher_needs_updating\u001b[0m \u001b[1;33m=\u001b[0m \u001b[0mself\u001b[0m\u001b[1;33m.\u001b[0m\u001b[0m_check_is_chained_assignment_possible\u001b[0m\u001b[1;33m(\u001b[0m\u001b[1;33m)\u001b[0m\u001b[1;33m\u001b[0m\u001b[1;33m\u001b[0m\u001b[0m\n\u001b[1;32m-> 1039\u001b[1;33m         \u001b[0msetitem\u001b[0m\u001b[1;33m(\u001b[0m\u001b[0mkey\u001b[0m\u001b[1;33m,\u001b[0m \u001b[0mvalue\u001b[0m\u001b[1;33m)\u001b[0m\u001b[1;33m\u001b[0m\u001b[1;33m\u001b[0m\u001b[0m\n\u001b[0m\u001b[0;32m   1040\u001b[0m         \u001b[1;32mif\u001b[0m \u001b[0mcacher_needs_updating\u001b[0m\u001b[1;33m:\u001b[0m\u001b[1;33m\u001b[0m\u001b[1;33m\u001b[0m\u001b[0m\n\u001b[0;32m   1041\u001b[0m             \u001b[0mself\u001b[0m\u001b[1;33m.\u001b[0m\u001b[0m_maybe_update_cacher\u001b[0m\u001b[1;33m(\u001b[0m\u001b[1;33m)\u001b[0m\u001b[1;33m\u001b[0m\u001b[1;33m\u001b[0m\u001b[0m\n",
      "\u001b[1;32mC:\\ProgramData\\Anaconda3\\lib\\site-packages\\pandas\\core\\series.py\u001b[0m in \u001b[0;36msetitem\u001b[1;34m(key, value)\u001b[0m\n\u001b[0;32m   1033\u001b[0m                     \u001b[1;32mpass\u001b[0m\u001b[1;33m\u001b[0m\u001b[1;33m\u001b[0m\u001b[0m\n\u001b[0;32m   1034\u001b[0m \u001b[1;33m\u001b[0m\u001b[0m\n\u001b[1;32m-> 1035\u001b[1;33m             \u001b[0mself\u001b[0m\u001b[1;33m.\u001b[0m\u001b[0m_set_with\u001b[0m\u001b[1;33m(\u001b[0m\u001b[0mkey\u001b[0m\u001b[1;33m,\u001b[0m \u001b[0mvalue\u001b[0m\u001b[1;33m)\u001b[0m\u001b[1;33m\u001b[0m\u001b[1;33m\u001b[0m\u001b[0m\n\u001b[0m\u001b[0;32m   1036\u001b[0m \u001b[1;33m\u001b[0m\u001b[0m\n\u001b[0;32m   1037\u001b[0m         \u001b[1;31m# do the setitem\u001b[0m\u001b[1;33m\u001b[0m\u001b[1;33m\u001b[0m\u001b[1;33m\u001b[0m\u001b[0m\n",
      "\u001b[1;32mC:\\ProgramData\\Anaconda3\\lib\\site-packages\\pandas\\core\\series.py\u001b[0m in \u001b[0;36m_set_with\u001b[1;34m(self, key, value)\u001b[0m\n\u001b[0;32m   1077\u001b[0m             \u001b[1;32mif\u001b[0m \u001b[0mkey_type\u001b[0m \u001b[1;33m==\u001b[0m \u001b[1;34m'integer'\u001b[0m\u001b[1;33m:\u001b[0m\u001b[1;33m\u001b[0m\u001b[1;33m\u001b[0m\u001b[0m\n\u001b[0;32m   1078\u001b[0m                 \u001b[1;32mif\u001b[0m \u001b[0mself\u001b[0m\u001b[1;33m.\u001b[0m\u001b[0mindex\u001b[0m\u001b[1;33m.\u001b[0m\u001b[0minferred_type\u001b[0m \u001b[1;33m==\u001b[0m \u001b[1;34m'integer'\u001b[0m\u001b[1;33m:\u001b[0m\u001b[1;33m\u001b[0m\u001b[1;33m\u001b[0m\u001b[0m\n\u001b[1;32m-> 1079\u001b[1;33m                     \u001b[0mself\u001b[0m\u001b[1;33m.\u001b[0m\u001b[0m_set_labels\u001b[0m\u001b[1;33m(\u001b[0m\u001b[0mkey\u001b[0m\u001b[1;33m,\u001b[0m \u001b[0mvalue\u001b[0m\u001b[1;33m)\u001b[0m\u001b[1;33m\u001b[0m\u001b[1;33m\u001b[0m\u001b[0m\n\u001b[0m\u001b[0;32m   1080\u001b[0m                 \u001b[1;32melse\u001b[0m\u001b[1;33m:\u001b[0m\u001b[1;33m\u001b[0m\u001b[1;33m\u001b[0m\u001b[0m\n\u001b[0;32m   1081\u001b[0m                     \u001b[1;32mreturn\u001b[0m \u001b[0mself\u001b[0m\u001b[1;33m.\u001b[0m\u001b[0m_set_values\u001b[0m\u001b[1;33m(\u001b[0m\u001b[0mkey\u001b[0m\u001b[1;33m,\u001b[0m \u001b[0mvalue\u001b[0m\u001b[1;33m)\u001b[0m\u001b[1;33m\u001b[0m\u001b[1;33m\u001b[0m\u001b[0m\n",
      "\u001b[1;32mC:\\ProgramData\\Anaconda3\\lib\\site-packages\\pandas\\core\\series.py\u001b[0m in \u001b[0;36m_set_labels\u001b[1;34m(self, key, value)\u001b[0m\n\u001b[0;32m   1093\u001b[0m         \u001b[0mmask\u001b[0m \u001b[1;33m=\u001b[0m \u001b[0mindexer\u001b[0m \u001b[1;33m==\u001b[0m \u001b[1;33m-\u001b[0m\u001b[1;36m1\u001b[0m\u001b[1;33m\u001b[0m\u001b[1;33m\u001b[0m\u001b[0m\n\u001b[0;32m   1094\u001b[0m         \u001b[1;32mif\u001b[0m \u001b[0mmask\u001b[0m\u001b[1;33m.\u001b[0m\u001b[0many\u001b[0m\u001b[1;33m(\u001b[0m\u001b[1;33m)\u001b[0m\u001b[1;33m:\u001b[0m\u001b[1;33m\u001b[0m\u001b[1;33m\u001b[0m\u001b[0m\n\u001b[1;32m-> 1095\u001b[1;33m             \u001b[1;32mraise\u001b[0m \u001b[0mValueError\u001b[0m\u001b[1;33m(\u001b[0m\u001b[1;34m'%s not contained in the index'\u001b[0m \u001b[1;33m%\u001b[0m \u001b[0mstr\u001b[0m\u001b[1;33m(\u001b[0m\u001b[0mkey\u001b[0m\u001b[1;33m[\u001b[0m\u001b[0mmask\u001b[0m\u001b[1;33m]\u001b[0m\u001b[1;33m)\u001b[0m\u001b[1;33m)\u001b[0m\u001b[1;33m\u001b[0m\u001b[1;33m\u001b[0m\u001b[0m\n\u001b[0m\u001b[0;32m   1096\u001b[0m         \u001b[0mself\u001b[0m\u001b[1;33m.\u001b[0m\u001b[0m_set_values\u001b[0m\u001b[1;33m(\u001b[0m\u001b[0mindexer\u001b[0m\u001b[1;33m,\u001b[0m \u001b[0mvalue\u001b[0m\u001b[1;33m)\u001b[0m\u001b[1;33m\u001b[0m\u001b[1;33m\u001b[0m\u001b[0m\n\u001b[0;32m   1097\u001b[0m \u001b[1;33m\u001b[0m\u001b[0m\n",
      "\u001b[1;31mValueError\u001b[0m: [34 45 12] not contained in the index"
     ]
    }
   ],
   "source": [
    "# multiple insertion\n",
    "\n",
    "s1[[34,45,12]] = [33,44,55]\n",
    "s1"
   ]
  },
  {
   "cell_type": "code",
   "execution_count": null,
   "metadata": {},
   "outputs": [],
   "source": [
    "s2 = pd.Series([10,20,30,40], index=[\"oranges\",\"apples\",\"bananas\",\"pears\"])"
   ]
  },
  {
   "cell_type": "code",
   "execution_count": null,
   "metadata": {},
   "outputs": [],
   "source": [
    "s2"
   ]
  },
  {
   "cell_type": "code",
   "execution_count": null,
   "metadata": {},
   "outputs": [],
   "source": [
    "s2.index"
   ]
  },
  {
   "cell_type": "code",
   "execution_count": 342,
   "metadata": {},
   "outputs": [
    {
     "data": {
      "text/plain": [
       "array([10, 20, 30, 40], dtype=int64)"
      ]
     },
     "execution_count": 342,
     "metadata": {},
     "output_type": "execute_result"
    }
   ],
   "source": [
    "s2.values"
   ]
  },
  {
   "cell_type": "code",
   "execution_count": 343,
   "metadata": {},
   "outputs": [
    {
     "data": {
      "text/plain": [
       "oranges    10\n",
       "apples     20\n",
       "bananas    30\n",
       "pears      40\n",
       "dtype: int64"
      ]
     },
     "execution_count": 343,
     "metadata": {},
     "output_type": "execute_result"
    }
   ],
   "source": [
    "ourIndex = ['oranges', 'apples', 'bananas', 'pears']\n",
    "s2 = pd.Series([10,20,30,40], index = ourIndex)\n",
    "s2"
   ]
  },
  {
   "cell_type": "code",
   "execution_count": 344,
   "metadata": {},
   "outputs": [
    {
     "data": {
      "text/plain": [
       "oranges    False\n",
       "apples     False\n",
       "bananas    False\n",
       "pears       True\n",
       "dtype: bool"
      ]
     },
     "execution_count": 344,
     "metadata": {},
     "output_type": "execute_result"
    }
   ],
   "source": [
    "s2>30 # compares 30 with s2's every value"
   ]
  },
  {
   "cell_type": "code",
   "execution_count": 345,
   "metadata": {},
   "outputs": [
    {
     "data": {
      "text/plain": [
       "oranges     True\n",
       "apples      True\n",
       "bananas    False\n",
       "pears      False\n",
       "dtype: bool"
      ]
     },
     "execution_count": 345,
     "metadata": {},
     "output_type": "execute_result"
    }
   ],
   "source": [
    "s2<30"
   ]
  },
  {
   "cell_type": "code",
   "execution_count": 346,
   "metadata": {},
   "outputs": [
    {
     "data": {
      "text/plain": [
       "oranges    10\n",
       "apples     20\n",
       "dtype: int64"
      ]
     },
     "execution_count": 346,
     "metadata": {},
     "output_type": "execute_result"
    }
   ],
   "source": [
    "s2[s2<30] # fetches the content and displays the values"
   ]
  },
  {
   "cell_type": "code",
   "execution_count": 347,
   "metadata": {},
   "outputs": [
    {
     "data": {
      "text/plain": [
       "False"
      ]
     },
     "execution_count": 347,
     "metadata": {},
     "output_type": "execute_result"
    }
   ],
   "source": [
    "\"peaches\" in s2"
   ]
  },
  {
   "cell_type": "code",
   "execution_count": 348,
   "metadata": {},
   "outputs": [
    {
     "data": {
      "text/plain": [
       "True"
      ]
     },
     "execution_count": 348,
     "metadata": {},
     "output_type": "execute_result"
    }
   ],
   "source": [
    "\"pears\" in s2"
   ]
  },
  {
   "cell_type": "code",
   "execution_count": 349,
   "metadata": {},
   "outputs": [
    {
     "data": {
      "text/plain": [
       "oranges    10\n",
       "apples     20\n",
       "bananas    30\n",
       "pears      40\n",
       "dtype: int64"
      ]
     },
     "execution_count": 349,
     "metadata": {},
     "output_type": "execute_result"
    }
   ],
   "source": [
    "\"40\" in s2 # outputs False but it is incorrect, doesnt work for values only keys\n",
    "s2"
   ]
  },
  {
   "cell_type": "markdown",
   "metadata": {},
   "source": [
    "# Creating a series using a dictionary"
   ]
  },
  {
   "cell_type": "code",
   "execution_count": 350,
   "metadata": {},
   "outputs": [
    {
     "name": "stdout",
     "output_type": "stream",
     "text": [
      "{'Ohio': 35000, 'Texas': 71000, 'Oregon': 16000, 'Utah': 5000}\n"
     ]
    }
   ],
   "source": [
    "sdata = {'Ohio': 35000, 'Texas': 71000, 'Oregon': 16000, 'Utah': 5000} # it is a dictionary\n",
    "print(sdata)"
   ]
  },
  {
   "cell_type": "code",
   "execution_count": 351,
   "metadata": {},
   "outputs": [
    {
     "data": {
      "text/plain": [
       "Ohio      35000\n",
       "Texas     71000\n",
       "Oregon    16000\n",
       "Utah       5000\n",
       "dtype: int64"
      ]
     },
     "execution_count": 351,
     "metadata": {},
     "output_type": "execute_result"
    }
   ],
   "source": [
    "data = pd.Series(sdata) # generating a series using a dic\n",
    "data"
   ]
  },
  {
   "cell_type": "code",
   "execution_count": 352,
   "metadata": {},
   "outputs": [],
   "source": [
    "states = ['California', 'Ohio', 'Texas','North Carolina']\n",
    "data1 = pd.Series(sdata, index = states) # changing indexes now, matches new index values with older indexes"
   ]
  },
  {
   "cell_type": "code",
   "execution_count": 353,
   "metadata": {},
   "outputs": [
    {
     "data": {
      "text/plain": [
       "California            NaN\n",
       "Ohio              35000.0\n",
       "Texas             71000.0\n",
       "North Carolina        NaN\n",
       "dtype: float64"
      ]
     },
     "execution_count": 353,
     "metadata": {},
     "output_type": "execute_result"
    }
   ],
   "source": [
    "data1  # NaN -- Not a Number means missing number"
   ]
  },
  {
   "cell_type": "code",
   "execution_count": 354,
   "metadata": {},
   "outputs": [
    {
     "data": {
      "text/plain": [
       "California        43000.0\n",
       "Ohio              35000.0\n",
       "Texas             71000.0\n",
       "North Carolina        NaN\n",
       "dtype: float64"
      ]
     },
     "execution_count": 354,
     "metadata": {},
     "output_type": "execute_result"
    }
   ],
   "source": [
    "data1['California'] = 43000\n",
    "data1"
   ]
  },
  {
   "cell_type": "code",
   "execution_count": 355,
   "metadata": {},
   "outputs": [
    {
     "data": {
      "text/plain": [
       "California        False\n",
       "Ohio              False\n",
       "Texas             False\n",
       "North Carolina     True\n",
       "dtype: bool"
      ]
     },
     "execution_count": 355,
     "metadata": {},
     "output_type": "execute_result"
    }
   ],
   "source": [
    "data1.isnull() # tells which value is missing"
   ]
  },
  {
   "cell_type": "code",
   "execution_count": 356,
   "metadata": {},
   "outputs": [
    {
     "data": {
      "text/plain": [
       "California         True\n",
       "Ohio               True\n",
       "Texas              True\n",
       "North Carolina    False\n",
       "dtype: bool"
      ]
     },
     "execution_count": 356,
     "metadata": {},
     "output_type": "execute_result"
    }
   ],
   "source": [
    "data1.notnull() # tells what values are present"
   ]
  },
  {
   "cell_type": "code",
   "execution_count": 357,
   "metadata": {},
   "outputs": [
    {
     "data": {
      "text/plain": [
       "California        43000.0\n",
       "Ohio              35000.0\n",
       "Texas             71000.0\n",
       "North Carolina    54000.0\n",
       "dtype: float64"
      ]
     },
     "execution_count": 357,
     "metadata": {},
     "output_type": "execute_result"
    }
   ],
   "source": [
    "data1[\"North Carolina\"] = 54000\n",
    "data1"
   ]
  },
  {
   "cell_type": "code",
   "execution_count": 358,
   "metadata": {},
   "outputs": [
    {
     "data": {
      "text/plain": [
       "California        False\n",
       "Ohio              False\n",
       "Texas             False\n",
       "North Carolina    False\n",
       "dtype: bool"
      ]
     },
     "execution_count": 358,
     "metadata": {},
     "output_type": "execute_result"
    }
   ],
   "source": [
    "data1.isnull()"
   ]
  },
  {
   "cell_type": "markdown",
   "metadata": {},
   "source": [
    "# Data Frames"
   ]
  },
  {
   "cell_type": "code",
   "execution_count": 359,
   "metadata": {},
   "outputs": [
    {
     "data": {
      "text/html": [
       "<div>\n",
       "<style scoped>\n",
       "    .dataframe tbody tr th:only-of-type {\n",
       "        vertical-align: middle;\n",
       "    }\n",
       "\n",
       "    .dataframe tbody tr th {\n",
       "        vertical-align: top;\n",
       "    }\n",
       "\n",
       "    .dataframe thead th {\n",
       "        text-align: right;\n",
       "    }\n",
       "</style>\n",
       "<table border=\"1\" class=\"dataframe\">\n",
       "  <thead>\n",
       "    <tr style=\"text-align: right;\">\n",
       "      <th></th>\n",
       "      <th>state</th>\n",
       "      <th>year</th>\n",
       "      <th>pop</th>\n",
       "    </tr>\n",
       "  </thead>\n",
       "  <tbody>\n",
       "    <tr>\n",
       "      <th>0</th>\n",
       "      <td>Ohio</td>\n",
       "      <td>2000</td>\n",
       "      <td>1.5</td>\n",
       "    </tr>\n",
       "    <tr>\n",
       "      <th>1</th>\n",
       "      <td>Ohio</td>\n",
       "      <td>2001</td>\n",
       "      <td>1.7</td>\n",
       "    </tr>\n",
       "    <tr>\n",
       "      <th>2</th>\n",
       "      <td>Ohio</td>\n",
       "      <td>2002</td>\n",
       "      <td>3.6</td>\n",
       "    </tr>\n",
       "    <tr>\n",
       "      <th>3</th>\n",
       "      <td>Nevada</td>\n",
       "      <td>2001</td>\n",
       "      <td>2.4</td>\n",
       "    </tr>\n",
       "    <tr>\n",
       "      <th>4</th>\n",
       "      <td>Nevada</td>\n",
       "      <td>2002</td>\n",
       "      <td>2.9</td>\n",
       "    </tr>\n",
       "    <tr>\n",
       "      <th>5</th>\n",
       "      <td>Nevada</td>\n",
       "      <td>2003</td>\n",
       "      <td>3.2</td>\n",
       "    </tr>\n",
       "  </tbody>\n",
       "</table>\n",
       "</div>"
      ],
      "text/plain": [
       "    state  year  pop\n",
       "0    Ohio  2000  1.5\n",
       "1    Ohio  2001  1.7\n",
       "2    Ohio  2002  3.6\n",
       "3  Nevada  2001  2.4\n",
       "4  Nevada  2002  2.9\n",
       "5  Nevada  2003  3.2"
      ]
     },
     "execution_count": 359,
     "metadata": {},
     "output_type": "execute_result"
    }
   ],
   "source": [
    "data = {'state': ['Ohio', 'Ohio', 'Ohio', 'Nevada', 'Nevada', 'Nevada'],        \n",
    "        'year': [2000, 2001, 2002, 2001, 2002, 2003],        \n",
    "        'pop': [1.5, 1.7, 3.6, 2.4, 2.9, 3.2]} \n",
    "\n",
    "frame = pd.DataFrame(data)\n",
    "frame"
   ]
  },
  {
   "cell_type": "code",
   "execution_count": 360,
   "metadata": {},
   "outputs": [
    {
     "data": {
      "text/html": [
       "<div>\n",
       "<style scoped>\n",
       "    .dataframe tbody tr th:only-of-type {\n",
       "        vertical-align: middle;\n",
       "    }\n",
       "\n",
       "    .dataframe tbody tr th {\n",
       "        vertical-align: top;\n",
       "    }\n",
       "\n",
       "    .dataframe thead th {\n",
       "        text-align: right;\n",
       "    }\n",
       "</style>\n",
       "<table border=\"1\" class=\"dataframe\">\n",
       "  <thead>\n",
       "    <tr style=\"text-align: right;\">\n",
       "      <th></th>\n",
       "      <th>Name</th>\n",
       "      <th>Exam</th>\n",
       "      <th>Marks</th>\n",
       "    </tr>\n",
       "  </thead>\n",
       "  <tbody>\n",
       "    <tr>\n",
       "      <th>0</th>\n",
       "      <td>Mahnoor</td>\n",
       "      <td>AI For Everyone</td>\n",
       "      <td>90</td>\n",
       "    </tr>\n",
       "    <tr>\n",
       "      <th>1</th>\n",
       "      <td></td>\n",
       "      <td>Python 1</td>\n",
       "      <td>95</td>\n",
       "    </tr>\n",
       "    <tr>\n",
       "      <th>2</th>\n",
       "      <td></td>\n",
       "      <td>Python 2</td>\n",
       "      <td>97</td>\n",
       "    </tr>\n",
       "    <tr>\n",
       "      <th>3</th>\n",
       "      <td></td>\n",
       "      <td>Git Test</td>\n",
       "      <td>98</td>\n",
       "    </tr>\n",
       "    <tr>\n",
       "      <th>4</th>\n",
       "      <td>Hafsa</td>\n",
       "      <td>AI For Everyone</td>\n",
       "      <td>78</td>\n",
       "    </tr>\n",
       "    <tr>\n",
       "      <th>5</th>\n",
       "      <td></td>\n",
       "      <td>Python 1</td>\n",
       "      <td>89</td>\n",
       "    </tr>\n",
       "    <tr>\n",
       "      <th>6</th>\n",
       "      <td></td>\n",
       "      <td>Python 2</td>\n",
       "      <td>90</td>\n",
       "    </tr>\n",
       "    <tr>\n",
       "      <th>7</th>\n",
       "      <td></td>\n",
       "      <td>Git Test</td>\n",
       "      <td>78</td>\n",
       "    </tr>\n",
       "    <tr>\n",
       "      <th>8</th>\n",
       "      <td>Sukaina</td>\n",
       "      <td>AI For Everyone</td>\n",
       "      <td>67</td>\n",
       "    </tr>\n",
       "    <tr>\n",
       "      <th>9</th>\n",
       "      <td></td>\n",
       "      <td>Python 1</td>\n",
       "      <td>89</td>\n",
       "    </tr>\n",
       "    <tr>\n",
       "      <th>10</th>\n",
       "      <td></td>\n",
       "      <td>Python 2</td>\n",
       "      <td>98</td>\n",
       "    </tr>\n",
       "    <tr>\n",
       "      <th>11</th>\n",
       "      <td></td>\n",
       "      <td>Git Test</td>\n",
       "      <td>78</td>\n",
       "    </tr>\n",
       "    <tr>\n",
       "      <th>12</th>\n",
       "      <td>Iqbal</td>\n",
       "      <td>AI For Everyone</td>\n",
       "      <td>67</td>\n",
       "    </tr>\n",
       "    <tr>\n",
       "      <th>13</th>\n",
       "      <td></td>\n",
       "      <td>Python 1</td>\n",
       "      <td>87</td>\n",
       "    </tr>\n",
       "    <tr>\n",
       "      <th>14</th>\n",
       "      <td></td>\n",
       "      <td>Python 2</td>\n",
       "      <td>65</td>\n",
       "    </tr>\n",
       "    <tr>\n",
       "      <th>15</th>\n",
       "      <td></td>\n",
       "      <td>Git Test</td>\n",
       "      <td>98</td>\n",
       "    </tr>\n",
       "  </tbody>\n",
       "</table>\n",
       "</div>"
      ],
      "text/plain": [
       "       Name             Exam  Marks\n",
       "0   Mahnoor  AI For Everyone     90\n",
       "1                   Python 1     95\n",
       "2                   Python 2     97\n",
       "3                   Git Test     98\n",
       "4     Hafsa  AI For Everyone     78\n",
       "5                   Python 1     89\n",
       "6                   Python 2     90\n",
       "7                   Git Test     78\n",
       "8   Sukaina  AI For Everyone     67\n",
       "9                   Python 1     89\n",
       "10                  Python 2     98\n",
       "11                  Git Test     78\n",
       "12    Iqbal  AI For Everyone     67\n",
       "13                  Python 1     87\n",
       "14                  Python 2     65\n",
       "15                  Git Test     98"
      ]
     },
     "execution_count": 360,
     "metadata": {},
     "output_type": "execute_result"
    }
   ],
   "source": [
    "table = { 'Name': ['Mahnoor','','','', 'Hafsa','','','', 'Sukaina','','','', 'Iqbal','','',''],\n",
    "          'Exam': ['AI For Everyone', 'Python 1', 'Python 2','Git Test', 'AI For Everyone', 'Python 1', 'Python 2','Git Test', 'AI For Everyone', 'Python 1', 'Python 2','Git Test', 'AI For Everyone', 'Python 1', 'Python 2','Git Test' ],\n",
    "          'Marks': [90,95,97,98,78,89,90,78,67,89,98,78,67,87,65,98]}\n",
    "frame1 = pd.DataFrame(table)\n",
    "frame1"
   ]
  },
  {
   "cell_type": "code",
   "execution_count": 361,
   "metadata": {},
   "outputs": [
    {
     "data": {
      "text/plain": [
       "0     90\n",
       "1     95\n",
       "2     97\n",
       "3     98\n",
       "4     78\n",
       "5     89\n",
       "6     90\n",
       "7     78\n",
       "8     67\n",
       "9     89\n",
       "10    98\n",
       "11    78\n",
       "12    67\n",
       "13    87\n",
       "14    65\n",
       "15    98\n",
       "Name: Marks, dtype: int64"
      ]
     },
     "execution_count": 361,
     "metadata": {},
     "output_type": "execute_result"
    }
   ],
   "source": [
    "frame1['Marks']"
   ]
  },
  {
   "cell_type": "code",
   "execution_count": 362,
   "metadata": {},
   "outputs": [
    {
     "data": {
      "text/html": [
       "<div>\n",
       "<style scoped>\n",
       "    .dataframe tbody tr th:only-of-type {\n",
       "        vertical-align: middle;\n",
       "    }\n",
       "\n",
       "    .dataframe tbody tr th {\n",
       "        vertical-align: top;\n",
       "    }\n",
       "\n",
       "    .dataframe thead th {\n",
       "        text-align: right;\n",
       "    }\n",
       "</style>\n",
       "<table border=\"1\" class=\"dataframe\">\n",
       "  <thead>\n",
       "    <tr style=\"text-align: right;\">\n",
       "      <th></th>\n",
       "      <th>Exam</th>\n",
       "      <th>Marks</th>\n",
       "    </tr>\n",
       "  </thead>\n",
       "  <tbody>\n",
       "    <tr>\n",
       "      <th>0</th>\n",
       "      <td>AI For Everyone</td>\n",
       "      <td>90</td>\n",
       "    </tr>\n",
       "    <tr>\n",
       "      <th>1</th>\n",
       "      <td>Python 1</td>\n",
       "      <td>95</td>\n",
       "    </tr>\n",
       "    <tr>\n",
       "      <th>2</th>\n",
       "      <td>Python 2</td>\n",
       "      <td>97</td>\n",
       "    </tr>\n",
       "    <tr>\n",
       "      <th>3</th>\n",
       "      <td>Git Test</td>\n",
       "      <td>98</td>\n",
       "    </tr>\n",
       "    <tr>\n",
       "      <th>4</th>\n",
       "      <td>AI For Everyone</td>\n",
       "      <td>78</td>\n",
       "    </tr>\n",
       "    <tr>\n",
       "      <th>5</th>\n",
       "      <td>Python 1</td>\n",
       "      <td>89</td>\n",
       "    </tr>\n",
       "    <tr>\n",
       "      <th>6</th>\n",
       "      <td>Python 2</td>\n",
       "      <td>90</td>\n",
       "    </tr>\n",
       "    <tr>\n",
       "      <th>7</th>\n",
       "      <td>Git Test</td>\n",
       "      <td>78</td>\n",
       "    </tr>\n",
       "    <tr>\n",
       "      <th>8</th>\n",
       "      <td>AI For Everyone</td>\n",
       "      <td>67</td>\n",
       "    </tr>\n",
       "    <tr>\n",
       "      <th>9</th>\n",
       "      <td>Python 1</td>\n",
       "      <td>89</td>\n",
       "    </tr>\n",
       "    <tr>\n",
       "      <th>10</th>\n",
       "      <td>Python 2</td>\n",
       "      <td>98</td>\n",
       "    </tr>\n",
       "    <tr>\n",
       "      <th>11</th>\n",
       "      <td>Git Test</td>\n",
       "      <td>78</td>\n",
       "    </tr>\n",
       "    <tr>\n",
       "      <th>12</th>\n",
       "      <td>AI For Everyone</td>\n",
       "      <td>67</td>\n",
       "    </tr>\n",
       "    <tr>\n",
       "      <th>13</th>\n",
       "      <td>Python 1</td>\n",
       "      <td>87</td>\n",
       "    </tr>\n",
       "    <tr>\n",
       "      <th>14</th>\n",
       "      <td>Python 2</td>\n",
       "      <td>65</td>\n",
       "    </tr>\n",
       "    <tr>\n",
       "      <th>15</th>\n",
       "      <td>Git Test</td>\n",
       "      <td>98</td>\n",
       "    </tr>\n",
       "  </tbody>\n",
       "</table>\n",
       "</div>"
      ],
      "text/plain": [
       "               Exam  Marks\n",
       "0   AI For Everyone     90\n",
       "1          Python 1     95\n",
       "2          Python 2     97\n",
       "3          Git Test     98\n",
       "4   AI For Everyone     78\n",
       "5          Python 1     89\n",
       "6          Python 2     90\n",
       "7          Git Test     78\n",
       "8   AI For Everyone     67\n",
       "9          Python 1     89\n",
       "10         Python 2     98\n",
       "11         Git Test     78\n",
       "12  AI For Everyone     67\n",
       "13         Python 1     87\n",
       "14         Python 2     65\n",
       "15         Git Test     98"
      ]
     },
     "execution_count": 362,
     "metadata": {},
     "output_type": "execute_result"
    }
   ],
   "source": [
    "frame1[['Exam','Marks']] # Multiple Column Selection"
   ]
  },
  {
   "cell_type": "code",
   "execution_count": 363,
   "metadata": {},
   "outputs": [],
   "source": [
    "del frame1[\"Exam\"]"
   ]
  },
  {
   "cell_type": "code",
   "execution_count": 364,
   "metadata": {},
   "outputs": [
    {
     "data": {
      "text/html": [
       "<div>\n",
       "<style scoped>\n",
       "    .dataframe tbody tr th:only-of-type {\n",
       "        vertical-align: middle;\n",
       "    }\n",
       "\n",
       "    .dataframe tbody tr th {\n",
       "        vertical-align: top;\n",
       "    }\n",
       "\n",
       "    .dataframe thead th {\n",
       "        text-align: right;\n",
       "    }\n",
       "</style>\n",
       "<table border=\"1\" class=\"dataframe\">\n",
       "  <thead>\n",
       "    <tr style=\"text-align: right;\">\n",
       "      <th></th>\n",
       "      <th>Name</th>\n",
       "      <th>Marks</th>\n",
       "    </tr>\n",
       "  </thead>\n",
       "  <tbody>\n",
       "    <tr>\n",
       "      <th>0</th>\n",
       "      <td>Mahnoor</td>\n",
       "      <td>90</td>\n",
       "    </tr>\n",
       "    <tr>\n",
       "      <th>1</th>\n",
       "      <td></td>\n",
       "      <td>95</td>\n",
       "    </tr>\n",
       "    <tr>\n",
       "      <th>2</th>\n",
       "      <td></td>\n",
       "      <td>97</td>\n",
       "    </tr>\n",
       "    <tr>\n",
       "      <th>3</th>\n",
       "      <td></td>\n",
       "      <td>98</td>\n",
       "    </tr>\n",
       "    <tr>\n",
       "      <th>4</th>\n",
       "      <td>Hafsa</td>\n",
       "      <td>78</td>\n",
       "    </tr>\n",
       "    <tr>\n",
       "      <th>5</th>\n",
       "      <td></td>\n",
       "      <td>89</td>\n",
       "    </tr>\n",
       "    <tr>\n",
       "      <th>6</th>\n",
       "      <td></td>\n",
       "      <td>90</td>\n",
       "    </tr>\n",
       "    <tr>\n",
       "      <th>7</th>\n",
       "      <td></td>\n",
       "      <td>78</td>\n",
       "    </tr>\n",
       "    <tr>\n",
       "      <th>8</th>\n",
       "      <td>Sukaina</td>\n",
       "      <td>67</td>\n",
       "    </tr>\n",
       "    <tr>\n",
       "      <th>9</th>\n",
       "      <td></td>\n",
       "      <td>89</td>\n",
       "    </tr>\n",
       "    <tr>\n",
       "      <th>10</th>\n",
       "      <td></td>\n",
       "      <td>98</td>\n",
       "    </tr>\n",
       "    <tr>\n",
       "      <th>11</th>\n",
       "      <td></td>\n",
       "      <td>78</td>\n",
       "    </tr>\n",
       "    <tr>\n",
       "      <th>12</th>\n",
       "      <td>Iqbal</td>\n",
       "      <td>67</td>\n",
       "    </tr>\n",
       "    <tr>\n",
       "      <th>13</th>\n",
       "      <td></td>\n",
       "      <td>87</td>\n",
       "    </tr>\n",
       "    <tr>\n",
       "      <th>14</th>\n",
       "      <td></td>\n",
       "      <td>65</td>\n",
       "    </tr>\n",
       "    <tr>\n",
       "      <th>15</th>\n",
       "      <td></td>\n",
       "      <td>98</td>\n",
       "    </tr>\n",
       "  </tbody>\n",
       "</table>\n",
       "</div>"
      ],
      "text/plain": [
       "       Name  Marks\n",
       "0   Mahnoor     90\n",
       "1               95\n",
       "2               97\n",
       "3               98\n",
       "4     Hafsa     78\n",
       "5               89\n",
       "6               90\n",
       "7               78\n",
       "8   Sukaina     67\n",
       "9               89\n",
       "10              98\n",
       "11              78\n",
       "12    Iqbal     67\n",
       "13              87\n",
       "14              65\n",
       "15              98"
      ]
     },
     "execution_count": 364,
     "metadata": {},
     "output_type": "execute_result"
    }
   ],
   "source": [
    "frame1"
   ]
  },
  {
   "cell_type": "code",
   "execution_count": 365,
   "metadata": {},
   "outputs": [
    {
     "data": {
      "text/html": [
       "<div>\n",
       "<style scoped>\n",
       "    .dataframe tbody tr th:only-of-type {\n",
       "        vertical-align: middle;\n",
       "    }\n",
       "\n",
       "    .dataframe tbody tr th {\n",
       "        vertical-align: top;\n",
       "    }\n",
       "\n",
       "    .dataframe thead th {\n",
       "        text-align: right;\n",
       "    }\n",
       "</style>\n",
       "<table border=\"1\" class=\"dataframe\">\n",
       "  <thead>\n",
       "    <tr style=\"text-align: right;\">\n",
       "      <th></th>\n",
       "      <th>Name</th>\n",
       "      <th>Marks</th>\n",
       "      <th>Subject</th>\n",
       "    </tr>\n",
       "  </thead>\n",
       "  <tbody>\n",
       "    <tr>\n",
       "      <th>0</th>\n",
       "      <td>Mahnoor</td>\n",
       "      <td>90</td>\n",
       "      <td>OOP</td>\n",
       "    </tr>\n",
       "    <tr>\n",
       "      <th>1</th>\n",
       "      <td></td>\n",
       "      <td>95</td>\n",
       "      <td>OOP</td>\n",
       "    </tr>\n",
       "    <tr>\n",
       "      <th>2</th>\n",
       "      <td></td>\n",
       "      <td>97</td>\n",
       "      <td>OOP</td>\n",
       "    </tr>\n",
       "    <tr>\n",
       "      <th>3</th>\n",
       "      <td></td>\n",
       "      <td>98</td>\n",
       "      <td>OOP</td>\n",
       "    </tr>\n",
       "    <tr>\n",
       "      <th>4</th>\n",
       "      <td>Hafsa</td>\n",
       "      <td>78</td>\n",
       "      <td>OOP</td>\n",
       "    </tr>\n",
       "    <tr>\n",
       "      <th>5</th>\n",
       "      <td></td>\n",
       "      <td>89</td>\n",
       "      <td>OOP</td>\n",
       "    </tr>\n",
       "    <tr>\n",
       "      <th>6</th>\n",
       "      <td></td>\n",
       "      <td>90</td>\n",
       "      <td>OOP</td>\n",
       "    </tr>\n",
       "    <tr>\n",
       "      <th>7</th>\n",
       "      <td></td>\n",
       "      <td>78</td>\n",
       "      <td>OOP</td>\n",
       "    </tr>\n",
       "    <tr>\n",
       "      <th>8</th>\n",
       "      <td>Sukaina</td>\n",
       "      <td>67</td>\n",
       "      <td>OOP</td>\n",
       "    </tr>\n",
       "    <tr>\n",
       "      <th>9</th>\n",
       "      <td></td>\n",
       "      <td>89</td>\n",
       "      <td>OOP</td>\n",
       "    </tr>\n",
       "    <tr>\n",
       "      <th>10</th>\n",
       "      <td></td>\n",
       "      <td>98</td>\n",
       "      <td>OOP</td>\n",
       "    </tr>\n",
       "    <tr>\n",
       "      <th>11</th>\n",
       "      <td></td>\n",
       "      <td>78</td>\n",
       "      <td>OOP</td>\n",
       "    </tr>\n",
       "    <tr>\n",
       "      <th>12</th>\n",
       "      <td>Iqbal</td>\n",
       "      <td>67</td>\n",
       "      <td>OOP</td>\n",
       "    </tr>\n",
       "    <tr>\n",
       "      <th>13</th>\n",
       "      <td></td>\n",
       "      <td>87</td>\n",
       "      <td>OOP</td>\n",
       "    </tr>\n",
       "    <tr>\n",
       "      <th>14</th>\n",
       "      <td></td>\n",
       "      <td>65</td>\n",
       "      <td>OOP</td>\n",
       "    </tr>\n",
       "    <tr>\n",
       "      <th>15</th>\n",
       "      <td></td>\n",
       "      <td>98</td>\n",
       "      <td>OOP</td>\n",
       "    </tr>\n",
       "  </tbody>\n",
       "</table>\n",
       "</div>"
      ],
      "text/plain": [
       "       Name  Marks Subject\n",
       "0   Mahnoor     90     OOP\n",
       "1               95     OOP\n",
       "2               97     OOP\n",
       "3               98     OOP\n",
       "4     Hafsa     78     OOP\n",
       "5               89     OOP\n",
       "6               90     OOP\n",
       "7               78     OOP\n",
       "8   Sukaina     67     OOP\n",
       "9               89     OOP\n",
       "10              98     OOP\n",
       "11              78     OOP\n",
       "12    Iqbal     67     OOP\n",
       "13              87     OOP\n",
       "14              65     OOP\n",
       "15              98     OOP"
      ]
     },
     "execution_count": 365,
     "metadata": {},
     "output_type": "execute_result"
    }
   ],
   "source": [
    "frame1[\"Subject\"] = \"OOP\"\n",
    "frame1"
   ]
  },
  {
   "cell_type": "code",
   "execution_count": 366,
   "metadata": {},
   "outputs": [
    {
     "data": {
      "text/html": [
       "<div>\n",
       "<style scoped>\n",
       "    .dataframe tbody tr th:only-of-type {\n",
       "        vertical-align: middle;\n",
       "    }\n",
       "\n",
       "    .dataframe tbody tr th {\n",
       "        vertical-align: top;\n",
       "    }\n",
       "\n",
       "    .dataframe thead th {\n",
       "        text-align: right;\n",
       "    }\n",
       "</style>\n",
       "<table border=\"1\" class=\"dataframe\">\n",
       "  <thead>\n",
       "    <tr style=\"text-align: right;\">\n",
       "      <th></th>\n",
       "      <th>Name</th>\n",
       "      <th>Marks</th>\n",
       "      <th>Subject</th>\n",
       "    </tr>\n",
       "  </thead>\n",
       "  <tbody>\n",
       "    <tr>\n",
       "      <th>0</th>\n",
       "      <td>Mahnoor</td>\n",
       "      <td>90</td>\n",
       "      <td>OOP</td>\n",
       "    </tr>\n",
       "    <tr>\n",
       "      <th>1</th>\n",
       "      <td></td>\n",
       "      <td>95</td>\n",
       "      <td>CP</td>\n",
       "    </tr>\n",
       "    <tr>\n",
       "      <th>2</th>\n",
       "      <td></td>\n",
       "      <td>97</td>\n",
       "      <td>DBMS</td>\n",
       "    </tr>\n",
       "    <tr>\n",
       "      <th>3</th>\n",
       "      <td></td>\n",
       "      <td>98</td>\n",
       "      <td>DSA</td>\n",
       "    </tr>\n",
       "    <tr>\n",
       "      <th>4</th>\n",
       "      <td>Hafsa</td>\n",
       "      <td>78</td>\n",
       "      <td>OOP</td>\n",
       "    </tr>\n",
       "    <tr>\n",
       "      <th>5</th>\n",
       "      <td></td>\n",
       "      <td>89</td>\n",
       "      <td>CP</td>\n",
       "    </tr>\n",
       "    <tr>\n",
       "      <th>6</th>\n",
       "      <td></td>\n",
       "      <td>90</td>\n",
       "      <td>DBMS</td>\n",
       "    </tr>\n",
       "    <tr>\n",
       "      <th>7</th>\n",
       "      <td></td>\n",
       "      <td>78</td>\n",
       "      <td>DSA</td>\n",
       "    </tr>\n",
       "    <tr>\n",
       "      <th>8</th>\n",
       "      <td>Sukaina</td>\n",
       "      <td>67</td>\n",
       "      <td>OOP</td>\n",
       "    </tr>\n",
       "    <tr>\n",
       "      <th>9</th>\n",
       "      <td></td>\n",
       "      <td>89</td>\n",
       "      <td>CP</td>\n",
       "    </tr>\n",
       "    <tr>\n",
       "      <th>10</th>\n",
       "      <td></td>\n",
       "      <td>98</td>\n",
       "      <td>DBMS</td>\n",
       "    </tr>\n",
       "    <tr>\n",
       "      <th>11</th>\n",
       "      <td></td>\n",
       "      <td>78</td>\n",
       "      <td>DSA</td>\n",
       "    </tr>\n",
       "    <tr>\n",
       "      <th>12</th>\n",
       "      <td>Iqbal</td>\n",
       "      <td>67</td>\n",
       "      <td>OOP</td>\n",
       "    </tr>\n",
       "    <tr>\n",
       "      <th>13</th>\n",
       "      <td></td>\n",
       "      <td>87</td>\n",
       "      <td>CP</td>\n",
       "    </tr>\n",
       "    <tr>\n",
       "      <th>14</th>\n",
       "      <td></td>\n",
       "      <td>65</td>\n",
       "      <td>DBMS</td>\n",
       "    </tr>\n",
       "    <tr>\n",
       "      <th>15</th>\n",
       "      <td></td>\n",
       "      <td>98</td>\n",
       "      <td>DSA</td>\n",
       "    </tr>\n",
       "  </tbody>\n",
       "</table>\n",
       "</div>"
      ],
      "text/plain": [
       "       Name  Marks Subject\n",
       "0   Mahnoor     90     OOP\n",
       "1               95      CP\n",
       "2               97    DBMS\n",
       "3               98     DSA\n",
       "4     Hafsa     78     OOP\n",
       "5               89      CP\n",
       "6               90    DBMS\n",
       "7               78     DSA\n",
       "8   Sukaina     67     OOP\n",
       "9               89      CP\n",
       "10              98    DBMS\n",
       "11              78     DSA\n",
       "12    Iqbal     67     OOP\n",
       "13              87      CP\n",
       "14              65    DBMS\n",
       "15              98     DSA"
      ]
     },
     "execution_count": 366,
     "metadata": {},
     "output_type": "execute_result"
    }
   ],
   "source": [
    "frame1[\"Subject\"] = [\"OOP\", \"CP\",\"DBMS\",\"DSA\", \"OOP\", \"CP\",\"DBMS\",\"DSA\", \"OOP\", \"CP\",\"DBMS\",\"DSA\", \"OOP\", \"CP\",\"DBMS\",\"DSA\"]\n",
    "frame1"
   ]
  },
  {
   "cell_type": "code",
   "execution_count": 367,
   "metadata": {},
   "outputs": [
    {
     "data": {
      "text/html": [
       "<div>\n",
       "<style scoped>\n",
       "    .dataframe tbody tr th:only-of-type {\n",
       "        vertical-align: middle;\n",
       "    }\n",
       "\n",
       "    .dataframe tbody tr th {\n",
       "        vertical-align: top;\n",
       "    }\n",
       "\n",
       "    .dataframe thead th {\n",
       "        text-align: right;\n",
       "    }\n",
       "</style>\n",
       "<table border=\"1\" class=\"dataframe\">\n",
       "  <thead>\n",
       "    <tr style=\"text-align: right;\">\n",
       "      <th></th>\n",
       "      <th>Name</th>\n",
       "      <th>Marks</th>\n",
       "      <th>Subject</th>\n",
       "    </tr>\n",
       "  </thead>\n",
       "  <tbody>\n",
       "    <tr>\n",
       "      <th>0</th>\n",
       "      <td>Mahnoor</td>\n",
       "      <td>90</td>\n",
       "      <td>0</td>\n",
       "    </tr>\n",
       "    <tr>\n",
       "      <th>1</th>\n",
       "      <td></td>\n",
       "      <td>95</td>\n",
       "      <td>1</td>\n",
       "    </tr>\n",
       "    <tr>\n",
       "      <th>2</th>\n",
       "      <td></td>\n",
       "      <td>97</td>\n",
       "      <td>2</td>\n",
       "    </tr>\n",
       "    <tr>\n",
       "      <th>3</th>\n",
       "      <td></td>\n",
       "      <td>98</td>\n",
       "      <td>3</td>\n",
       "    </tr>\n",
       "    <tr>\n",
       "      <th>4</th>\n",
       "      <td>Hafsa</td>\n",
       "      <td>78</td>\n",
       "      <td>4</td>\n",
       "    </tr>\n",
       "    <tr>\n",
       "      <th>5</th>\n",
       "      <td></td>\n",
       "      <td>89</td>\n",
       "      <td>5</td>\n",
       "    </tr>\n",
       "    <tr>\n",
       "      <th>6</th>\n",
       "      <td></td>\n",
       "      <td>90</td>\n",
       "      <td>6</td>\n",
       "    </tr>\n",
       "    <tr>\n",
       "      <th>7</th>\n",
       "      <td></td>\n",
       "      <td>78</td>\n",
       "      <td>7</td>\n",
       "    </tr>\n",
       "    <tr>\n",
       "      <th>8</th>\n",
       "      <td>Sukaina</td>\n",
       "      <td>67</td>\n",
       "      <td>8</td>\n",
       "    </tr>\n",
       "    <tr>\n",
       "      <th>9</th>\n",
       "      <td></td>\n",
       "      <td>89</td>\n",
       "      <td>9</td>\n",
       "    </tr>\n",
       "    <tr>\n",
       "      <th>10</th>\n",
       "      <td></td>\n",
       "      <td>98</td>\n",
       "      <td>10</td>\n",
       "    </tr>\n",
       "    <tr>\n",
       "      <th>11</th>\n",
       "      <td></td>\n",
       "      <td>78</td>\n",
       "      <td>11</td>\n",
       "    </tr>\n",
       "    <tr>\n",
       "      <th>12</th>\n",
       "      <td>Iqbal</td>\n",
       "      <td>67</td>\n",
       "      <td>12</td>\n",
       "    </tr>\n",
       "    <tr>\n",
       "      <th>13</th>\n",
       "      <td></td>\n",
       "      <td>87</td>\n",
       "      <td>13</td>\n",
       "    </tr>\n",
       "    <tr>\n",
       "      <th>14</th>\n",
       "      <td></td>\n",
       "      <td>65</td>\n",
       "      <td>14</td>\n",
       "    </tr>\n",
       "    <tr>\n",
       "      <th>15</th>\n",
       "      <td></td>\n",
       "      <td>98</td>\n",
       "      <td>15</td>\n",
       "    </tr>\n",
       "  </tbody>\n",
       "</table>\n",
       "</div>"
      ],
      "text/plain": [
       "       Name  Marks  Subject\n",
       "0   Mahnoor     90        0\n",
       "1               95        1\n",
       "2               97        2\n",
       "3               98        3\n",
       "4     Hafsa     78        4\n",
       "5               89        5\n",
       "6               90        6\n",
       "7               78        7\n",
       "8   Sukaina     67        8\n",
       "9               89        9\n",
       "10              98       10\n",
       "11              78       11\n",
       "12    Iqbal     67       12\n",
       "13              87       13\n",
       "14              65       14\n",
       "15              98       15"
      ]
     },
     "execution_count": 367,
     "metadata": {},
     "output_type": "execute_result"
    }
   ],
   "source": [
    "frame1[\"Subject\"] = range(16)\n",
    "frame1"
   ]
  },
  {
   "cell_type": "code",
   "execution_count": 368,
   "metadata": {},
   "outputs": [
    {
     "data": {
      "text/html": [
       "<div>\n",
       "<style scoped>\n",
       "    .dataframe tbody tr th:only-of-type {\n",
       "        vertical-align: middle;\n",
       "    }\n",
       "\n",
       "    .dataframe tbody tr th {\n",
       "        vertical-align: top;\n",
       "    }\n",
       "\n",
       "    .dataframe thead th {\n",
       "        text-align: right;\n",
       "    }\n",
       "</style>\n",
       "<table border=\"1\" class=\"dataframe\">\n",
       "  <thead>\n",
       "    <tr style=\"text-align: right;\">\n",
       "      <th></th>\n",
       "      <th>AI For Everyone</th>\n",
       "      <th>Python 1</th>\n",
       "      <th>Python 2</th>\n",
       "    </tr>\n",
       "  </thead>\n",
       "  <tbody>\n",
       "    <tr>\n",
       "      <th>Mahnoor</th>\n",
       "      <td>100</td>\n",
       "      <td>100</td>\n",
       "      <td>32</td>\n",
       "    </tr>\n",
       "    <tr>\n",
       "      <th>Laaebba</th>\n",
       "      <td>87</td>\n",
       "      <td>15</td>\n",
       "      <td>47</td>\n",
       "    </tr>\n",
       "    <tr>\n",
       "      <th>Rida</th>\n",
       "      <td>90</td>\n",
       "      <td>97</td>\n",
       "      <td>98</td>\n",
       "    </tr>\n",
       "    <tr>\n",
       "      <th>Neha</th>\n",
       "      <td>76</td>\n",
       "      <td>96</td>\n",
       "      <td>26</td>\n",
       "    </tr>\n",
       "    <tr>\n",
       "      <th>Madiha</th>\n",
       "      <td>32</td>\n",
       "      <td>35</td>\n",
       "      <td>93</td>\n",
       "    </tr>\n",
       "    <tr>\n",
       "      <th>Sifat</th>\n",
       "      <td>89</td>\n",
       "      <td>87</td>\n",
       "      <td>78</td>\n",
       "    </tr>\n",
       "    <tr>\n",
       "      <th>Meraj</th>\n",
       "      <td>86</td>\n",
       "      <td>85</td>\n",
       "      <td>67</td>\n",
       "    </tr>\n",
       "    <tr>\n",
       "      <th>Hamza</th>\n",
       "      <td>85</td>\n",
       "      <td>45</td>\n",
       "      <td>87</td>\n",
       "    </tr>\n",
       "  </tbody>\n",
       "</table>\n",
       "</div>"
      ],
      "text/plain": [
       "         AI For Everyone  Python 1  Python 2\n",
       "Mahnoor              100       100        32\n",
       "Laaebba               87        15        47\n",
       "Rida                  90        97        98\n",
       "Neha                  76        96        26\n",
       "Madiha                32        35        93\n",
       "Sifat                 89        87        78\n",
       "Meraj                 86        85        67\n",
       "Hamza                 85        45        87"
      ]
     },
     "execution_count": 368,
     "metadata": {},
     "output_type": "execute_result"
    }
   ],
   "source": [
    "dic = {\n",
    "      \"AI For Everyone\" : [100,87,90,76,32,89,86,85],\n",
    "      \"Python 1\" : [100,15,97,96,35,87,85,45],\n",
    "      \"Python 2\" : [32,47,98,26,93,78,67,87]\n",
    "     }\n",
    "\n",
    "df = pd.DataFrame(dic, index=[\"Mahnoor\", \"Laaebba\", \"Rida\", \"Neha\",\"Madiha\",\"Sifat\",\"Meraj\",\"Hamza\"])\n",
    "df"
   ]
  },
  {
   "cell_type": "code",
   "execution_count": 369,
   "metadata": {},
   "outputs": [
    {
     "data": {
      "text/html": [
       "<div>\n",
       "<style scoped>\n",
       "    .dataframe tbody tr th:only-of-type {\n",
       "        vertical-align: middle;\n",
       "    }\n",
       "\n",
       "    .dataframe tbody tr th {\n",
       "        vertical-align: top;\n",
       "    }\n",
       "\n",
       "    .dataframe thead th {\n",
       "        text-align: right;\n",
       "    }\n",
       "</style>\n",
       "<table border=\"1\" class=\"dataframe\">\n",
       "  <thead>\n",
       "    <tr style=\"text-align: right;\">\n",
       "      <th></th>\n",
       "      <th>AI For Everyone</th>\n",
       "      <th>Python 1</th>\n",
       "      <th>Python 2</th>\n",
       "      <th>Total_Marks</th>\n",
       "    </tr>\n",
       "  </thead>\n",
       "  <tbody>\n",
       "    <tr>\n",
       "      <th>Mahnoor</th>\n",
       "      <td>100</td>\n",
       "      <td>100</td>\n",
       "      <td>32</td>\n",
       "      <td>0</td>\n",
       "    </tr>\n",
       "    <tr>\n",
       "      <th>Laaebba</th>\n",
       "      <td>87</td>\n",
       "      <td>15</td>\n",
       "      <td>47</td>\n",
       "      <td>1</td>\n",
       "    </tr>\n",
       "    <tr>\n",
       "      <th>Rida</th>\n",
       "      <td>90</td>\n",
       "      <td>97</td>\n",
       "      <td>98</td>\n",
       "      <td>2</td>\n",
       "    </tr>\n",
       "    <tr>\n",
       "      <th>Neha</th>\n",
       "      <td>76</td>\n",
       "      <td>96</td>\n",
       "      <td>26</td>\n",
       "      <td>3</td>\n",
       "    </tr>\n",
       "    <tr>\n",
       "      <th>Madiha</th>\n",
       "      <td>32</td>\n",
       "      <td>35</td>\n",
       "      <td>93</td>\n",
       "      <td>4</td>\n",
       "    </tr>\n",
       "    <tr>\n",
       "      <th>Sifat</th>\n",
       "      <td>89</td>\n",
       "      <td>87</td>\n",
       "      <td>78</td>\n",
       "      <td>5</td>\n",
       "    </tr>\n",
       "    <tr>\n",
       "      <th>Meraj</th>\n",
       "      <td>86</td>\n",
       "      <td>85</td>\n",
       "      <td>67</td>\n",
       "      <td>6</td>\n",
       "    </tr>\n",
       "    <tr>\n",
       "      <th>Hamza</th>\n",
       "      <td>85</td>\n",
       "      <td>45</td>\n",
       "      <td>87</td>\n",
       "      <td>7</td>\n",
       "    </tr>\n",
       "  </tbody>\n",
       "</table>\n",
       "</div>"
      ],
      "text/plain": [
       "         AI For Everyone  Python 1  Python 2  Total_Marks\n",
       "Mahnoor              100       100        32            0\n",
       "Laaebba               87        15        47            1\n",
       "Rida                  90        97        98            2\n",
       "Neha                  76        96        26            3\n",
       "Madiha                32        35        93            4\n",
       "Sifat                 89        87        78            5\n",
       "Meraj                 86        85        67            6\n",
       "Hamza                 85        45        87            7"
      ]
     },
     "execution_count": 369,
     "metadata": {},
     "output_type": "execute_result"
    }
   ],
   "source": [
    "df[\"Total_Marks\"] = range(8)\n",
    "df"
   ]
  },
  {
   "cell_type": "code",
   "execution_count": 370,
   "metadata": {},
   "outputs": [
    {
     "data": {
      "text/html": [
       "<div>\n",
       "<style scoped>\n",
       "    .dataframe tbody tr th:only-of-type {\n",
       "        vertical-align: middle;\n",
       "    }\n",
       "\n",
       "    .dataframe tbody tr th {\n",
       "        vertical-align: top;\n",
       "    }\n",
       "\n",
       "    .dataframe thead th {\n",
       "        text-align: right;\n",
       "    }\n",
       "</style>\n",
       "<table border=\"1\" class=\"dataframe\">\n",
       "  <thead>\n",
       "    <tr style=\"text-align: right;\">\n",
       "      <th></th>\n",
       "      <th>AI For Everyone</th>\n",
       "      <th>Python 1</th>\n",
       "      <th>Python 2</th>\n",
       "      <th>Total_Marks</th>\n",
       "    </tr>\n",
       "  </thead>\n",
       "  <tbody>\n",
       "    <tr>\n",
       "      <th>Mahnoor</th>\n",
       "      <td>100</td>\n",
       "      <td>100</td>\n",
       "      <td>32</td>\n",
       "      <td>232</td>\n",
       "    </tr>\n",
       "    <tr>\n",
       "      <th>Laaebba</th>\n",
       "      <td>87</td>\n",
       "      <td>15</td>\n",
       "      <td>47</td>\n",
       "      <td>149</td>\n",
       "    </tr>\n",
       "    <tr>\n",
       "      <th>Rida</th>\n",
       "      <td>90</td>\n",
       "      <td>97</td>\n",
       "      <td>98</td>\n",
       "      <td>285</td>\n",
       "    </tr>\n",
       "    <tr>\n",
       "      <th>Neha</th>\n",
       "      <td>76</td>\n",
       "      <td>96</td>\n",
       "      <td>26</td>\n",
       "      <td>198</td>\n",
       "    </tr>\n",
       "    <tr>\n",
       "      <th>Madiha</th>\n",
       "      <td>32</td>\n",
       "      <td>35</td>\n",
       "      <td>93</td>\n",
       "      <td>160</td>\n",
       "    </tr>\n",
       "    <tr>\n",
       "      <th>Sifat</th>\n",
       "      <td>89</td>\n",
       "      <td>87</td>\n",
       "      <td>78</td>\n",
       "      <td>254</td>\n",
       "    </tr>\n",
       "    <tr>\n",
       "      <th>Meraj</th>\n",
       "      <td>86</td>\n",
       "      <td>85</td>\n",
       "      <td>67</td>\n",
       "      <td>238</td>\n",
       "    </tr>\n",
       "    <tr>\n",
       "      <th>Hamza</th>\n",
       "      <td>85</td>\n",
       "      <td>45</td>\n",
       "      <td>87</td>\n",
       "      <td>217</td>\n",
       "    </tr>\n",
       "  </tbody>\n",
       "</table>\n",
       "</div>"
      ],
      "text/plain": [
       "         AI For Everyone  Python 1  Python 2  Total_Marks\n",
       "Mahnoor              100       100        32          232\n",
       "Laaebba               87        15        47          149\n",
       "Rida                  90        97        98          285\n",
       "Neha                  76        96        26          198\n",
       "Madiha                32        35        93          160\n",
       "Sifat                 89        87        78          254\n",
       "Meraj                 86        85        67          238\n",
       "Hamza                 85        45        87          217"
      ]
     },
     "execution_count": 370,
     "metadata": {},
     "output_type": "execute_result"
    }
   ],
   "source": [
    "df[\"Total_Marks\"] = df[\"AI For Everyone\"] + df[\"Python 1\"] + df[\"Python 2\"]\n",
    "df"
   ]
  },
  {
   "cell_type": "code",
   "execution_count": 371,
   "metadata": {},
   "outputs": [],
   "source": [
    "#stat = df[df[\"Total Marks\"] < 250]\n",
    "#df[\"Results\"] = df[stat]\n",
    "#df"
   ]
  },
  {
   "cell_type": "code",
   "execution_count": 372,
   "metadata": {},
   "outputs": [
    {
     "name": "stdout",
     "output_type": "stream",
     "text": [
      "         AI For Everyone  Python 1  Python 2  Total_Marks  Status\n",
      "Mahnoor              100       100        32          232  Failed\n",
      "Laaebba               87        15        47          149  Failed\n",
      "Rida                  90        97        98          285  Passed\n",
      "Neha                  76        96        26          198  Failed\n",
      "Madiha                32        35        93          160  Failed\n",
      "Sifat                 89        87        78          254  Passed\n",
      "Meraj                 86        85        67          238  Failed\n",
      "Hamza                 85        45        87          217  Failed\n"
     ]
    }
   ],
   "source": [
    "df.loc[df.Total_Marks <= 250, 'Status'] = 'Failed' \n",
    "df.loc[df.Total_Marks > 250, 'Status'] = 'Passed'\n",
    "\n",
    "print(df)"
   ]
  },
  {
   "cell_type": "code",
   "execution_count": 373,
   "metadata": {},
   "outputs": [
    {
     "data": {
      "text/html": [
       "<div>\n",
       "<style scoped>\n",
       "    .dataframe tbody tr th:only-of-type {\n",
       "        vertical-align: middle;\n",
       "    }\n",
       "\n",
       "    .dataframe tbody tr th {\n",
       "        vertical-align: top;\n",
       "    }\n",
       "\n",
       "    .dataframe thead th {\n",
       "        text-align: right;\n",
       "    }\n",
       "</style>\n",
       "<table border=\"1\" class=\"dataframe\">\n",
       "  <thead>\n",
       "    <tr style=\"text-align: right;\">\n",
       "      <th></th>\n",
       "      <th>AI For Everyone</th>\n",
       "      <th>Python 1</th>\n",
       "      <th>Python 2</th>\n",
       "      <th>Total_Marks</th>\n",
       "      <th>Status</th>\n",
       "    </tr>\n",
       "  </thead>\n",
       "  <tbody>\n",
       "    <tr>\n",
       "      <th>Mahnoor</th>\n",
       "      <td>100</td>\n",
       "      <td>100</td>\n",
       "      <td>32</td>\n",
       "      <td>232</td>\n",
       "      <td>Fails</td>\n",
       "    </tr>\n",
       "    <tr>\n",
       "      <th>Laaebba</th>\n",
       "      <td>87</td>\n",
       "      <td>15</td>\n",
       "      <td>47</td>\n",
       "      <td>149</td>\n",
       "      <td>Fails</td>\n",
       "    </tr>\n",
       "    <tr>\n",
       "      <th>Rida</th>\n",
       "      <td>90</td>\n",
       "      <td>97</td>\n",
       "      <td>98</td>\n",
       "      <td>285</td>\n",
       "      <td>Pass</td>\n",
       "    </tr>\n",
       "    <tr>\n",
       "      <th>Neha</th>\n",
       "      <td>76</td>\n",
       "      <td>96</td>\n",
       "      <td>26</td>\n",
       "      <td>198</td>\n",
       "      <td>Fails</td>\n",
       "    </tr>\n",
       "    <tr>\n",
       "      <th>Madiha</th>\n",
       "      <td>32</td>\n",
       "      <td>35</td>\n",
       "      <td>93</td>\n",
       "      <td>160</td>\n",
       "      <td>Fails</td>\n",
       "    </tr>\n",
       "    <tr>\n",
       "      <th>Sifat</th>\n",
       "      <td>89</td>\n",
       "      <td>87</td>\n",
       "      <td>78</td>\n",
       "      <td>254</td>\n",
       "      <td>Pass</td>\n",
       "    </tr>\n",
       "    <tr>\n",
       "      <th>Meraj</th>\n",
       "      <td>86</td>\n",
       "      <td>85</td>\n",
       "      <td>67</td>\n",
       "      <td>238</td>\n",
       "      <td>Fails</td>\n",
       "    </tr>\n",
       "    <tr>\n",
       "      <th>Hamza</th>\n",
       "      <td>85</td>\n",
       "      <td>45</td>\n",
       "      <td>87</td>\n",
       "      <td>217</td>\n",
       "      <td>Fails</td>\n",
       "    </tr>\n",
       "  </tbody>\n",
       "</table>\n",
       "</div>"
      ],
      "text/plain": [
       "         AI For Everyone  Python 1  Python 2  Total_Marks Status\n",
       "Mahnoor              100       100        32          232  Fails\n",
       "Laaebba               87        15        47          149  Fails\n",
       "Rida                  90        97        98          285   Pass\n",
       "Neha                  76        96        26          198  Fails\n",
       "Madiha                32        35        93          160  Fails\n",
       "Sifat                 89        87        78          254   Pass\n",
       "Meraj                 86        85        67          238  Fails\n",
       "Hamza                 85        45        87          217  Fails"
      ]
     },
     "execution_count": 373,
     "metadata": {},
     "output_type": "execute_result"
    }
   ],
   "source": [
    "#Sir's method\n",
    "\n",
    "df['Status'] = [\"Pass\" if marks >= 250 else \"Fails\" for marks in df.Total_Marks]\n",
    "df"
   ]
  },
  {
   "cell_type": "code",
   "execution_count": null,
   "metadata": {},
   "outputs": [],
   "source": []
  },
  {
   "cell_type": "code",
   "execution_count": null,
   "metadata": {},
   "outputs": [],
   "source": []
  },
  {
   "cell_type": "code",
   "execution_count": 374,
   "metadata": {},
   "outputs": [
    {
     "name": "stdout",
     "output_type": "stream",
     "text": [
      "Evens [2, 4, 6, 8, 10, 12, 14]\n",
      "Odds [1, 3, 5, 7, 9, 11, 13, 15]\n"
     ]
    }
   ],
   "source": [
    "numbers = [1,2,3,4,5,6,7,8,9,10,11,12,13,14,15]\n",
    "evenArr = []\n",
    "oddArr = []\n",
    "for num in numbers:\n",
    "    if num%2 == 0:\n",
    "        evenArr.append(num)\n",
    "    else:\n",
    "        oddArr.append(num)\n",
    "        \n",
    "print(\"Evens\", evenArr)\n",
    "print(\"Odds\", oddArr)"
   ]
  },
  {
   "cell_type": "code",
   "execution_count": 375,
   "metadata": {},
   "outputs": [
    {
     "data": {
      "text/plain": [
       "[2, 4, 6, 8, 10, 12, 14]"
      ]
     },
     "execution_count": 375,
     "metadata": {},
     "output_type": "execute_result"
    }
   ],
   "source": [
    "# list comprehension\n",
    "[num for num in numbers if num%2==0]"
   ]
  },
  {
   "cell_type": "code",
   "execution_count": 376,
   "metadata": {},
   "outputs": [
    {
     "data": {
      "text/html": [
       "<div>\n",
       "<style scoped>\n",
       "    .dataframe tbody tr th:only-of-type {\n",
       "        vertical-align: middle;\n",
       "    }\n",
       "\n",
       "    .dataframe tbody tr th {\n",
       "        vertical-align: top;\n",
       "    }\n",
       "\n",
       "    .dataframe thead th {\n",
       "        text-align: right;\n",
       "    }\n",
       "</style>\n",
       "<table border=\"1\" class=\"dataframe\">\n",
       "  <thead>\n",
       "    <tr style=\"text-align: right;\">\n",
       "      <th></th>\n",
       "      <th>AI For Everyone</th>\n",
       "      <th>Python 1</th>\n",
       "      <th>Python 2</th>\n",
       "      <th>Total_Marks</th>\n",
       "      <th>Status</th>\n",
       "      <th>Percentage</th>\n",
       "    </tr>\n",
       "  </thead>\n",
       "  <tbody>\n",
       "    <tr>\n",
       "      <th>Mahnoor</th>\n",
       "      <td>100</td>\n",
       "      <td>100</td>\n",
       "      <td>32</td>\n",
       "      <td>232</td>\n",
       "      <td>Fails</td>\n",
       "      <td>77.333333</td>\n",
       "    </tr>\n",
       "    <tr>\n",
       "      <th>Laaebba</th>\n",
       "      <td>87</td>\n",
       "      <td>15</td>\n",
       "      <td>47</td>\n",
       "      <td>149</td>\n",
       "      <td>Fails</td>\n",
       "      <td>49.666667</td>\n",
       "    </tr>\n",
       "    <tr>\n",
       "      <th>Rida</th>\n",
       "      <td>90</td>\n",
       "      <td>97</td>\n",
       "      <td>98</td>\n",
       "      <td>285</td>\n",
       "      <td>Pass</td>\n",
       "      <td>95.000000</td>\n",
       "    </tr>\n",
       "    <tr>\n",
       "      <th>Neha</th>\n",
       "      <td>76</td>\n",
       "      <td>96</td>\n",
       "      <td>26</td>\n",
       "      <td>198</td>\n",
       "      <td>Fails</td>\n",
       "      <td>66.000000</td>\n",
       "    </tr>\n",
       "    <tr>\n",
       "      <th>Madiha</th>\n",
       "      <td>32</td>\n",
       "      <td>35</td>\n",
       "      <td>93</td>\n",
       "      <td>160</td>\n",
       "      <td>Fails</td>\n",
       "      <td>53.333333</td>\n",
       "    </tr>\n",
       "    <tr>\n",
       "      <th>Sifat</th>\n",
       "      <td>89</td>\n",
       "      <td>87</td>\n",
       "      <td>78</td>\n",
       "      <td>254</td>\n",
       "      <td>Pass</td>\n",
       "      <td>84.666667</td>\n",
       "    </tr>\n",
       "    <tr>\n",
       "      <th>Meraj</th>\n",
       "      <td>86</td>\n",
       "      <td>85</td>\n",
       "      <td>67</td>\n",
       "      <td>238</td>\n",
       "      <td>Fails</td>\n",
       "      <td>79.333333</td>\n",
       "    </tr>\n",
       "    <tr>\n",
       "      <th>Hamza</th>\n",
       "      <td>85</td>\n",
       "      <td>45</td>\n",
       "      <td>87</td>\n",
       "      <td>217</td>\n",
       "      <td>Fails</td>\n",
       "      <td>72.333333</td>\n",
       "    </tr>\n",
       "  </tbody>\n",
       "</table>\n",
       "</div>"
      ],
      "text/plain": [
       "         AI For Everyone  Python 1  Python 2  Total_Marks Status  Percentage\n",
       "Mahnoor              100       100        32          232  Fails   77.333333\n",
       "Laaebba               87        15        47          149  Fails   49.666667\n",
       "Rida                  90        97        98          285   Pass   95.000000\n",
       "Neha                  76        96        26          198  Fails   66.000000\n",
       "Madiha                32        35        93          160  Fails   53.333333\n",
       "Sifat                 89        87        78          254   Pass   84.666667\n",
       "Meraj                 86        85        67          238  Fails   79.333333\n",
       "Hamza                 85        45        87          217  Fails   72.333333"
      ]
     },
     "execution_count": 376,
     "metadata": {},
     "output_type": "execute_result"
    }
   ],
   "source": [
    "df[\"Percentage\"] = df[\"Total_Marks\"]/300 * 100\n",
    "df"
   ]
  },
  {
   "cell_type": "code",
   "execution_count": 377,
   "metadata": {},
   "outputs": [],
   "source": [
    "#df.loc[df.AI For Everyone  <= 250, 'Status'] = 'Failed' \n",
    "#df.loc[df.Total_Marks > 250, 'Status'] = 'Passed'\n",
    "\n",
    "#print(df)"
   ]
  },
  {
   "cell_type": "code",
   "execution_count": 378,
   "metadata": {},
   "outputs": [
    {
     "data": {
      "text/html": [
       "<div>\n",
       "<style scoped>\n",
       "    .dataframe tbody tr th:only-of-type {\n",
       "        vertical-align: middle;\n",
       "    }\n",
       "\n",
       "    .dataframe tbody tr th {\n",
       "        vertical-align: top;\n",
       "    }\n",
       "\n",
       "    .dataframe thead th {\n",
       "        text-align: right;\n",
       "    }\n",
       "</style>\n",
       "<table border=\"1\" class=\"dataframe\">\n",
       "  <thead>\n",
       "    <tr style=\"text-align: right;\">\n",
       "      <th></th>\n",
       "      <th>AI For Everyone</th>\n",
       "      <th>Python 1</th>\n",
       "      <th>Python 2</th>\n",
       "      <th>Total_Marks</th>\n",
       "      <th>Status</th>\n",
       "      <th>Percentage</th>\n",
       "      <th>Status2</th>\n",
       "    </tr>\n",
       "  </thead>\n",
       "  <tbody>\n",
       "    <tr>\n",
       "      <th>Mahnoor</th>\n",
       "      <td>100</td>\n",
       "      <td>100</td>\n",
       "      <td>32</td>\n",
       "      <td>232</td>\n",
       "      <td>Fails</td>\n",
       "      <td>77.333333</td>\n",
       "      <td>Fails</td>\n",
       "    </tr>\n",
       "    <tr>\n",
       "      <th>Laaebba</th>\n",
       "      <td>87</td>\n",
       "      <td>15</td>\n",
       "      <td>47</td>\n",
       "      <td>149</td>\n",
       "      <td>Fails</td>\n",
       "      <td>49.666667</td>\n",
       "      <td>Fails</td>\n",
       "    </tr>\n",
       "    <tr>\n",
       "      <th>Rida</th>\n",
       "      <td>90</td>\n",
       "      <td>97</td>\n",
       "      <td>98</td>\n",
       "      <td>285</td>\n",
       "      <td>Pass</td>\n",
       "      <td>95.000000</td>\n",
       "      <td>Pass</td>\n",
       "    </tr>\n",
       "    <tr>\n",
       "      <th>Neha</th>\n",
       "      <td>76</td>\n",
       "      <td>96</td>\n",
       "      <td>26</td>\n",
       "      <td>198</td>\n",
       "      <td>Fails</td>\n",
       "      <td>66.000000</td>\n",
       "      <td>Fails</td>\n",
       "    </tr>\n",
       "    <tr>\n",
       "      <th>Madiha</th>\n",
       "      <td>32</td>\n",
       "      <td>35</td>\n",
       "      <td>93</td>\n",
       "      <td>160</td>\n",
       "      <td>Fails</td>\n",
       "      <td>53.333333</td>\n",
       "      <td>Fails</td>\n",
       "    </tr>\n",
       "    <tr>\n",
       "      <th>Sifat</th>\n",
       "      <td>89</td>\n",
       "      <td>87</td>\n",
       "      <td>78</td>\n",
       "      <td>254</td>\n",
       "      <td>Pass</td>\n",
       "      <td>84.666667</td>\n",
       "      <td>Pass</td>\n",
       "    </tr>\n",
       "    <tr>\n",
       "      <th>Meraj</th>\n",
       "      <td>86</td>\n",
       "      <td>85</td>\n",
       "      <td>67</td>\n",
       "      <td>238</td>\n",
       "      <td>Fails</td>\n",
       "      <td>79.333333</td>\n",
       "      <td>Pass</td>\n",
       "    </tr>\n",
       "    <tr>\n",
       "      <th>Hamza</th>\n",
       "      <td>85</td>\n",
       "      <td>45</td>\n",
       "      <td>87</td>\n",
       "      <td>217</td>\n",
       "      <td>Fails</td>\n",
       "      <td>72.333333</td>\n",
       "      <td>Pass</td>\n",
       "    </tr>\n",
       "  </tbody>\n",
       "</table>\n",
       "</div>"
      ],
      "text/plain": [
       "         AI For Everyone  Python 1  Python 2  Total_Marks Status  Percentage  \\\n",
       "Mahnoor              100       100        32          232  Fails   77.333333   \n",
       "Laaebba               87        15        47          149  Fails   49.666667   \n",
       "Rida                  90        97        98          285   Pass   95.000000   \n",
       "Neha                  76        96        26          198  Fails   66.000000   \n",
       "Madiha                32        35        93          160  Fails   53.333333   \n",
       "Sifat                 89        87        78          254   Pass   84.666667   \n",
       "Meraj                 86        85        67          238  Fails   79.333333   \n",
       "Hamza                 85        45        87          217  Fails   72.333333   \n",
       "\n",
       "        Status2  \n",
       "Mahnoor   Fails  \n",
       "Laaebba   Fails  \n",
       "Rida       Pass  \n",
       "Neha      Fails  \n",
       "Madiha    Fails  \n",
       "Sifat      Pass  \n",
       "Meraj      Pass  \n",
       "Hamza      Pass  "
      ]
     },
     "execution_count": 378,
     "metadata": {},
     "output_type": "execute_result"
    }
   ],
   "source": [
    "df['Status2'] = [\"Pass\" if a >= 33 and b >= 33 and c >= 33 else \"Fails\" for a,b,c in zip(df['AI For Everyone'], df['Python 1'], df['Python 2'])]\n",
    "df"
   ]
  },
  {
   "cell_type": "code",
   "execution_count": 379,
   "metadata": {},
   "outputs": [
    {
     "name": "stdout",
     "output_type": "stream",
     "text": [
      "(3, 6)\n",
      "(4, 7)\n",
      "(5, 4)\n",
      "(6, 7)\n"
     ]
    }
   ],
   "source": [
    "a = [3,4,5,6]\n",
    "b = [6,7,4,7]\n",
    "\n",
    "c = zip(a,b)\n",
    "for i in c:\n",
    "    print(i)"
   ]
  },
  {
   "cell_type": "code",
   "execution_count": 380,
   "metadata": {},
   "outputs": [
    {
     "data": {
      "text/html": [
       "<div>\n",
       "<style scoped>\n",
       "    .dataframe tbody tr th:only-of-type {\n",
       "        vertical-align: middle;\n",
       "    }\n",
       "\n",
       "    .dataframe tbody tr th {\n",
       "        vertical-align: top;\n",
       "    }\n",
       "\n",
       "    .dataframe thead th {\n",
       "        text-align: right;\n",
       "    }\n",
       "</style>\n",
       "<table border=\"1\" class=\"dataframe\">\n",
       "  <thead>\n",
       "    <tr style=\"text-align: right;\">\n",
       "      <th></th>\n",
       "      <th>AI For Everyone</th>\n",
       "      <th>Python 1</th>\n",
       "      <th>Python 2</th>\n",
       "      <th>Total_Marks</th>\n",
       "      <th>Status</th>\n",
       "      <th>Percentage</th>\n",
       "      <th>Status2</th>\n",
       "    </tr>\n",
       "  </thead>\n",
       "  <tbody>\n",
       "    <tr>\n",
       "      <th>Mahnoor</th>\n",
       "      <td>100</td>\n",
       "      <td>100</td>\n",
       "      <td>32</td>\n",
       "      <td>232</td>\n",
       "      <td>Fails</td>\n",
       "      <td>77.333333</td>\n",
       "      <td>Fails</td>\n",
       "    </tr>\n",
       "    <tr>\n",
       "      <th>Laaebba</th>\n",
       "      <td>87</td>\n",
       "      <td>15</td>\n",
       "      <td>47</td>\n",
       "      <td>149</td>\n",
       "      <td>Fails</td>\n",
       "      <td>49.666667</td>\n",
       "      <td>Fails</td>\n",
       "    </tr>\n",
       "    <tr>\n",
       "      <th>Rida</th>\n",
       "      <td>90</td>\n",
       "      <td>97</td>\n",
       "      <td>98</td>\n",
       "      <td>285</td>\n",
       "      <td>Pass</td>\n",
       "      <td>95.000000</td>\n",
       "      <td>Pass</td>\n",
       "    </tr>\n",
       "    <tr>\n",
       "      <th>Neha</th>\n",
       "      <td>76</td>\n",
       "      <td>96</td>\n",
       "      <td>26</td>\n",
       "      <td>198</td>\n",
       "      <td>Fails</td>\n",
       "      <td>66.000000</td>\n",
       "      <td>Fails</td>\n",
       "    </tr>\n",
       "    <tr>\n",
       "      <th>Madiha</th>\n",
       "      <td>32</td>\n",
       "      <td>35</td>\n",
       "      <td>93</td>\n",
       "      <td>160</td>\n",
       "      <td>Fails</td>\n",
       "      <td>53.333333</td>\n",
       "      <td>Fails</td>\n",
       "    </tr>\n",
       "  </tbody>\n",
       "</table>\n",
       "</div>"
      ],
      "text/plain": [
       "         AI For Everyone  Python 1  Python 2  Total_Marks Status  Percentage  \\\n",
       "Mahnoor              100       100        32          232  Fails   77.333333   \n",
       "Laaebba               87        15        47          149  Fails   49.666667   \n",
       "Rida                  90        97        98          285   Pass   95.000000   \n",
       "Neha                  76        96        26          198  Fails   66.000000   \n",
       "Madiha                32        35        93          160  Fails   53.333333   \n",
       "\n",
       "        Status2  \n",
       "Mahnoor   Fails  \n",
       "Laaebba   Fails  \n",
       "Rida       Pass  \n",
       "Neha      Fails  \n",
       "Madiha    Fails  "
      ]
     },
     "execution_count": 380,
     "metadata": {},
     "output_type": "execute_result"
    }
   ],
   "source": [
    "df.head() # returns 5 first rows"
   ]
  },
  {
   "cell_type": "code",
   "execution_count": 381,
   "metadata": {},
   "outputs": [
    {
     "data": {
      "text/html": [
       "<div>\n",
       "<style scoped>\n",
       "    .dataframe tbody tr th:only-of-type {\n",
       "        vertical-align: middle;\n",
       "    }\n",
       "\n",
       "    .dataframe tbody tr th {\n",
       "        vertical-align: top;\n",
       "    }\n",
       "\n",
       "    .dataframe thead th {\n",
       "        text-align: right;\n",
       "    }\n",
       "</style>\n",
       "<table border=\"1\" class=\"dataframe\">\n",
       "  <thead>\n",
       "    <tr style=\"text-align: right;\">\n",
       "      <th></th>\n",
       "      <th>AI For Everyone</th>\n",
       "      <th>Python 1</th>\n",
       "      <th>Python 2</th>\n",
       "      <th>Total_Marks</th>\n",
       "      <th>Status</th>\n",
       "      <th>Percentage</th>\n",
       "      <th>Status2</th>\n",
       "    </tr>\n",
       "  </thead>\n",
       "  <tbody>\n",
       "    <tr>\n",
       "      <th>Mahnoor</th>\n",
       "      <td>100</td>\n",
       "      <td>100</td>\n",
       "      <td>32</td>\n",
       "      <td>232</td>\n",
       "      <td>Fails</td>\n",
       "      <td>77.333333</td>\n",
       "      <td>Fails</td>\n",
       "    </tr>\n",
       "    <tr>\n",
       "      <th>Laaebba</th>\n",
       "      <td>87</td>\n",
       "      <td>15</td>\n",
       "      <td>47</td>\n",
       "      <td>149</td>\n",
       "      <td>Fails</td>\n",
       "      <td>49.666667</td>\n",
       "      <td>Fails</td>\n",
       "    </tr>\n",
       "    <tr>\n",
       "      <th>Rida</th>\n",
       "      <td>90</td>\n",
       "      <td>97</td>\n",
       "      <td>98</td>\n",
       "      <td>285</td>\n",
       "      <td>Pass</td>\n",
       "      <td>95.000000</td>\n",
       "      <td>Pass</td>\n",
       "    </tr>\n",
       "    <tr>\n",
       "      <th>Neha</th>\n",
       "      <td>76</td>\n",
       "      <td>96</td>\n",
       "      <td>26</td>\n",
       "      <td>198</td>\n",
       "      <td>Fails</td>\n",
       "      <td>66.000000</td>\n",
       "      <td>Fails</td>\n",
       "    </tr>\n",
       "  </tbody>\n",
       "</table>\n",
       "</div>"
      ],
      "text/plain": [
       "         AI For Everyone  Python 1  Python 2  Total_Marks Status  Percentage  \\\n",
       "Mahnoor              100       100        32          232  Fails   77.333333   \n",
       "Laaebba               87        15        47          149  Fails   49.666667   \n",
       "Rida                  90        97        98          285   Pass   95.000000   \n",
       "Neha                  76        96        26          198  Fails   66.000000   \n",
       "\n",
       "        Status2  \n",
       "Mahnoor   Fails  \n",
       "Laaebba   Fails  \n",
       "Rida       Pass  \n",
       "Neha      Fails  "
      ]
     },
     "execution_count": 381,
     "metadata": {},
     "output_type": "execute_result"
    }
   ],
   "source": [
    "df.head(4)"
   ]
  },
  {
   "cell_type": "code",
   "execution_count": 382,
   "metadata": {},
   "outputs": [
    {
     "data": {
      "text/html": [
       "<div>\n",
       "<style scoped>\n",
       "    .dataframe tbody tr th:only-of-type {\n",
       "        vertical-align: middle;\n",
       "    }\n",
       "\n",
       "    .dataframe tbody tr th {\n",
       "        vertical-align: top;\n",
       "    }\n",
       "\n",
       "    .dataframe thead th {\n",
       "        text-align: right;\n",
       "    }\n",
       "</style>\n",
       "<table border=\"1\" class=\"dataframe\">\n",
       "  <thead>\n",
       "    <tr style=\"text-align: right;\">\n",
       "      <th></th>\n",
       "      <th>AI For Everyone</th>\n",
       "      <th>Python 1</th>\n",
       "      <th>Python 2</th>\n",
       "      <th>Total_Marks</th>\n",
       "      <th>Status</th>\n",
       "      <th>Percentage</th>\n",
       "      <th>Status2</th>\n",
       "    </tr>\n",
       "  </thead>\n",
       "  <tbody>\n",
       "    <tr>\n",
       "      <th>Neha</th>\n",
       "      <td>76</td>\n",
       "      <td>96</td>\n",
       "      <td>26</td>\n",
       "      <td>198</td>\n",
       "      <td>Fails</td>\n",
       "      <td>66.000000</td>\n",
       "      <td>Fails</td>\n",
       "    </tr>\n",
       "    <tr>\n",
       "      <th>Madiha</th>\n",
       "      <td>32</td>\n",
       "      <td>35</td>\n",
       "      <td>93</td>\n",
       "      <td>160</td>\n",
       "      <td>Fails</td>\n",
       "      <td>53.333333</td>\n",
       "      <td>Fails</td>\n",
       "    </tr>\n",
       "    <tr>\n",
       "      <th>Sifat</th>\n",
       "      <td>89</td>\n",
       "      <td>87</td>\n",
       "      <td>78</td>\n",
       "      <td>254</td>\n",
       "      <td>Pass</td>\n",
       "      <td>84.666667</td>\n",
       "      <td>Pass</td>\n",
       "    </tr>\n",
       "    <tr>\n",
       "      <th>Meraj</th>\n",
       "      <td>86</td>\n",
       "      <td>85</td>\n",
       "      <td>67</td>\n",
       "      <td>238</td>\n",
       "      <td>Fails</td>\n",
       "      <td>79.333333</td>\n",
       "      <td>Pass</td>\n",
       "    </tr>\n",
       "    <tr>\n",
       "      <th>Hamza</th>\n",
       "      <td>85</td>\n",
       "      <td>45</td>\n",
       "      <td>87</td>\n",
       "      <td>217</td>\n",
       "      <td>Fails</td>\n",
       "      <td>72.333333</td>\n",
       "      <td>Pass</td>\n",
       "    </tr>\n",
       "  </tbody>\n",
       "</table>\n",
       "</div>"
      ],
      "text/plain": [
       "        AI For Everyone  Python 1  Python 2  Total_Marks Status  Percentage  \\\n",
       "Neha                 76        96        26          198  Fails   66.000000   \n",
       "Madiha               32        35        93          160  Fails   53.333333   \n",
       "Sifat                89        87        78          254   Pass   84.666667   \n",
       "Meraj                86        85        67          238  Fails   79.333333   \n",
       "Hamza                85        45        87          217  Fails   72.333333   \n",
       "\n",
       "       Status2  \n",
       "Neha     Fails  \n",
       "Madiha   Fails  \n",
       "Sifat     Pass  \n",
       "Meraj     Pass  \n",
       "Hamza     Pass  "
      ]
     },
     "execution_count": 382,
     "metadata": {},
     "output_type": "execute_result"
    }
   ],
   "source": [
    "df.tail() # returns last 5 rows by default"
   ]
  },
  {
   "cell_type": "code",
   "execution_count": 383,
   "metadata": {},
   "outputs": [
    {
     "data": {
      "text/html": [
       "<div>\n",
       "<style scoped>\n",
       "    .dataframe tbody tr th:only-of-type {\n",
       "        vertical-align: middle;\n",
       "    }\n",
       "\n",
       "    .dataframe tbody tr th {\n",
       "        vertical-align: top;\n",
       "    }\n",
       "\n",
       "    .dataframe thead th {\n",
       "        text-align: right;\n",
       "    }\n",
       "</style>\n",
       "<table border=\"1\" class=\"dataframe\">\n",
       "  <thead>\n",
       "    <tr style=\"text-align: right;\">\n",
       "      <th></th>\n",
       "      <th>AI For Everyone</th>\n",
       "      <th>Python 1</th>\n",
       "      <th>Python 2</th>\n",
       "      <th>Total_Marks</th>\n",
       "      <th>Status</th>\n",
       "      <th>Percentage</th>\n",
       "      <th>Status2</th>\n",
       "    </tr>\n",
       "  </thead>\n",
       "  <tbody>\n",
       "    <tr>\n",
       "      <th>Sifat</th>\n",
       "      <td>89</td>\n",
       "      <td>87</td>\n",
       "      <td>78</td>\n",
       "      <td>254</td>\n",
       "      <td>Pass</td>\n",
       "      <td>84.666667</td>\n",
       "      <td>Pass</td>\n",
       "    </tr>\n",
       "    <tr>\n",
       "      <th>Meraj</th>\n",
       "      <td>86</td>\n",
       "      <td>85</td>\n",
       "      <td>67</td>\n",
       "      <td>238</td>\n",
       "      <td>Fails</td>\n",
       "      <td>79.333333</td>\n",
       "      <td>Pass</td>\n",
       "    </tr>\n",
       "    <tr>\n",
       "      <th>Hamza</th>\n",
       "      <td>85</td>\n",
       "      <td>45</td>\n",
       "      <td>87</td>\n",
       "      <td>217</td>\n",
       "      <td>Fails</td>\n",
       "      <td>72.333333</td>\n",
       "      <td>Pass</td>\n",
       "    </tr>\n",
       "  </tbody>\n",
       "</table>\n",
       "</div>"
      ],
      "text/plain": [
       "       AI For Everyone  Python 1  Python 2  Total_Marks Status  Percentage  \\\n",
       "Sifat               89        87        78          254   Pass   84.666667   \n",
       "Meraj               86        85        67          238  Fails   79.333333   \n",
       "Hamza               85        45        87          217  Fails   72.333333   \n",
       "\n",
       "      Status2  \n",
       "Sifat    Pass  \n",
       "Meraj    Pass  \n",
       "Hamza    Pass  "
      ]
     },
     "execution_count": 383,
     "metadata": {},
     "output_type": "execute_result"
    }
   ],
   "source": [
    "df.tail(3)"
   ]
  },
  {
   "cell_type": "code",
   "execution_count": 385,
   "metadata": {},
   "outputs": [
    {
     "data": {
      "text/plain": [
       "AI For Everyone         85\n",
       "Python 1                45\n",
       "Python 2                87\n",
       "Total_Marks            217\n",
       "Status               Fails\n",
       "Percentage         72.3333\n",
       "Status2               Pass\n",
       "Name: Hamza, dtype: object"
      ]
     },
     "execution_count": 385,
     "metadata": {},
     "output_type": "execute_result"
    }
   ],
   "source": [
    "df.loc['Hamza']"
   ]
  },
  {
   "cell_type": "code",
   "execution_count": 386,
   "metadata": {},
   "outputs": [
    {
     "data": {
      "text/html": [
       "<div>\n",
       "<style scoped>\n",
       "    .dataframe tbody tr th:only-of-type {\n",
       "        vertical-align: middle;\n",
       "    }\n",
       "\n",
       "    .dataframe tbody tr th {\n",
       "        vertical-align: top;\n",
       "    }\n",
       "\n",
       "    .dataframe thead th {\n",
       "        text-align: right;\n",
       "    }\n",
       "</style>\n",
       "<table border=\"1\" class=\"dataframe\">\n",
       "  <thead>\n",
       "    <tr style=\"text-align: right;\">\n",
       "      <th></th>\n",
       "      <th>AI For Everyone</th>\n",
       "      <th>Python 1</th>\n",
       "      <th>Python 2</th>\n",
       "      <th>Total_Marks</th>\n",
       "      <th>Status</th>\n",
       "      <th>Percentage</th>\n",
       "      <th>Status2</th>\n",
       "    </tr>\n",
       "  </thead>\n",
       "  <tbody>\n",
       "    <tr>\n",
       "      <th>Mahnoor</th>\n",
       "      <td>100</td>\n",
       "      <td>100</td>\n",
       "      <td>32</td>\n",
       "      <td>232</td>\n",
       "      <td>Fails</td>\n",
       "      <td>77.333333</td>\n",
       "      <td>Fails</td>\n",
       "    </tr>\n",
       "    <tr>\n",
       "      <th>Laaebba</th>\n",
       "      <td>87</td>\n",
       "      <td>15</td>\n",
       "      <td>47</td>\n",
       "      <td>149</td>\n",
       "      <td>Fails</td>\n",
       "      <td>49.666667</td>\n",
       "      <td>Fails</td>\n",
       "    </tr>\n",
       "    <tr>\n",
       "      <th>Rida</th>\n",
       "      <td>90</td>\n",
       "      <td>97</td>\n",
       "      <td>98</td>\n",
       "      <td>285</td>\n",
       "      <td>Pass</td>\n",
       "      <td>95.000000</td>\n",
       "      <td>Pass</td>\n",
       "    </tr>\n",
       "    <tr>\n",
       "      <th>Neha</th>\n",
       "      <td>76</td>\n",
       "      <td>96</td>\n",
       "      <td>26</td>\n",
       "      <td>198</td>\n",
       "      <td>Fails</td>\n",
       "      <td>66.000000</td>\n",
       "      <td>Fails</td>\n",
       "    </tr>\n",
       "    <tr>\n",
       "      <th>Madiha</th>\n",
       "      <td>32</td>\n",
       "      <td>35</td>\n",
       "      <td>93</td>\n",
       "      <td>160</td>\n",
       "      <td>Fails</td>\n",
       "      <td>53.333333</td>\n",
       "      <td>Fails</td>\n",
       "    </tr>\n",
       "  </tbody>\n",
       "</table>\n",
       "</div>"
      ],
      "text/plain": [
       "         AI For Everyone  Python 1  Python 2  Total_Marks Status  Percentage  \\\n",
       "Mahnoor              100       100        32          232  Fails   77.333333   \n",
       "Laaebba               87        15        47          149  Fails   49.666667   \n",
       "Rida                  90        97        98          285   Pass   95.000000   \n",
       "Neha                  76        96        26          198  Fails   66.000000   \n",
       "Madiha                32        35        93          160  Fails   53.333333   \n",
       "\n",
       "        Status2  \n",
       "Mahnoor   Fails  \n",
       "Laaebba   Fails  \n",
       "Rida       Pass  \n",
       "Neha      Fails  \n",
       "Madiha    Fails  "
      ]
     },
     "execution_count": 386,
     "metadata": {},
     "output_type": "execute_result"
    }
   ],
   "source": [
    "df.loc['Mahnoor':'Madiha']"
   ]
  },
  {
   "cell_type": "code",
   "execution_count": 387,
   "metadata": {},
   "outputs": [
    {
     "data": {
      "text/plain": [
       "AI For Everyone        100\n",
       "Python 1               100\n",
       "Python 2                32\n",
       "Total_Marks            232\n",
       "Status               Fails\n",
       "Percentage         77.3333\n",
       "Status2              Fails\n",
       "Name: Mahnoor, dtype: object"
      ]
     },
     "execution_count": 387,
     "metadata": {},
     "output_type": "execute_result"
    }
   ],
   "source": [
    "df.iloc[0]"
   ]
  },
  {
   "cell_type": "code",
   "execution_count": 389,
   "metadata": {},
   "outputs": [
    {
     "data": {
      "text/plain": [
       "AI For Everyone         85\n",
       "Python 1                45\n",
       "Python 2                87\n",
       "Total_Marks            217\n",
       "Status               Fails\n",
       "Percentage         72.3333\n",
       "Status2               Pass\n",
       "Name: Hamza, dtype: object"
      ]
     },
     "execution_count": 389,
     "metadata": {},
     "output_type": "execute_result"
    }
   ],
   "source": [
    "df.iloc[-1]"
   ]
  },
  {
   "cell_type": "code",
   "execution_count": 391,
   "metadata": {},
   "outputs": [
    {
     "data": {
      "text/plain": [
       "26"
      ]
     },
     "execution_count": 391,
     "metadata": {},
     "output_type": "execute_result"
    }
   ],
   "source": [
    "df.loc['Neha']['Python 2']"
   ]
  },
  {
   "cell_type": "code",
   "execution_count": 395,
   "metadata": {},
   "outputs": [],
   "source": [
    "df.loc['Zahra'] = [4,5,6,7,5,6,7]"
   ]
  },
  {
   "cell_type": "code",
   "execution_count": 396,
   "metadata": {},
   "outputs": [
    {
     "data": {
      "text/html": [
       "<div>\n",
       "<style scoped>\n",
       "    .dataframe tbody tr th:only-of-type {\n",
       "        vertical-align: middle;\n",
       "    }\n",
       "\n",
       "    .dataframe tbody tr th {\n",
       "        vertical-align: top;\n",
       "    }\n",
       "\n",
       "    .dataframe thead th {\n",
       "        text-align: right;\n",
       "    }\n",
       "</style>\n",
       "<table border=\"1\" class=\"dataframe\">\n",
       "  <thead>\n",
       "    <tr style=\"text-align: right;\">\n",
       "      <th></th>\n",
       "      <th>AI For Everyone</th>\n",
       "      <th>Python 1</th>\n",
       "      <th>Python 2</th>\n",
       "      <th>Total_Marks</th>\n",
       "      <th>Status</th>\n",
       "      <th>Percentage</th>\n",
       "      <th>Status2</th>\n",
       "    </tr>\n",
       "  </thead>\n",
       "  <tbody>\n",
       "    <tr>\n",
       "      <th>Mahnoor</th>\n",
       "      <td>100</td>\n",
       "      <td>100</td>\n",
       "      <td>32</td>\n",
       "      <td>232</td>\n",
       "      <td>Fails</td>\n",
       "      <td>77.333333</td>\n",
       "      <td>Fails</td>\n",
       "    </tr>\n",
       "    <tr>\n",
       "      <th>Laaebba</th>\n",
       "      <td>87</td>\n",
       "      <td>15</td>\n",
       "      <td>47</td>\n",
       "      <td>149</td>\n",
       "      <td>Fails</td>\n",
       "      <td>49.666667</td>\n",
       "      <td>Fails</td>\n",
       "    </tr>\n",
       "    <tr>\n",
       "      <th>Rida</th>\n",
       "      <td>90</td>\n",
       "      <td>97</td>\n",
       "      <td>98</td>\n",
       "      <td>285</td>\n",
       "      <td>Pass</td>\n",
       "      <td>95.000000</td>\n",
       "      <td>Pass</td>\n",
       "    </tr>\n",
       "    <tr>\n",
       "      <th>Neha</th>\n",
       "      <td>76</td>\n",
       "      <td>96</td>\n",
       "      <td>26</td>\n",
       "      <td>198</td>\n",
       "      <td>Fails</td>\n",
       "      <td>66.000000</td>\n",
       "      <td>Fails</td>\n",
       "    </tr>\n",
       "    <tr>\n",
       "      <th>Madiha</th>\n",
       "      <td>32</td>\n",
       "      <td>35</td>\n",
       "      <td>93</td>\n",
       "      <td>160</td>\n",
       "      <td>Fails</td>\n",
       "      <td>53.333333</td>\n",
       "      <td>Fails</td>\n",
       "    </tr>\n",
       "    <tr>\n",
       "      <th>Sifat</th>\n",
       "      <td>89</td>\n",
       "      <td>87</td>\n",
       "      <td>78</td>\n",
       "      <td>254</td>\n",
       "      <td>Pass</td>\n",
       "      <td>84.666667</td>\n",
       "      <td>Pass</td>\n",
       "    </tr>\n",
       "    <tr>\n",
       "      <th>Meraj</th>\n",
       "      <td>86</td>\n",
       "      <td>85</td>\n",
       "      <td>67</td>\n",
       "      <td>238</td>\n",
       "      <td>Fails</td>\n",
       "      <td>79.333333</td>\n",
       "      <td>Pass</td>\n",
       "    </tr>\n",
       "    <tr>\n",
       "      <th>Hamza</th>\n",
       "      <td>85</td>\n",
       "      <td>45</td>\n",
       "      <td>87</td>\n",
       "      <td>217</td>\n",
       "      <td>Fails</td>\n",
       "      <td>72.333333</td>\n",
       "      <td>Pass</td>\n",
       "    </tr>\n",
       "    <tr>\n",
       "      <th>Zahra</th>\n",
       "      <td>4</td>\n",
       "      <td>5</td>\n",
       "      <td>6</td>\n",
       "      <td>7</td>\n",
       "      <td>5</td>\n",
       "      <td>6.000000</td>\n",
       "      <td>7</td>\n",
       "    </tr>\n",
       "  </tbody>\n",
       "</table>\n",
       "</div>"
      ],
      "text/plain": [
       "         AI For Everyone  Python 1  Python 2  Total_Marks Status  Percentage  \\\n",
       "Mahnoor              100       100        32          232  Fails   77.333333   \n",
       "Laaebba               87        15        47          149  Fails   49.666667   \n",
       "Rida                  90        97        98          285   Pass   95.000000   \n",
       "Neha                  76        96        26          198  Fails   66.000000   \n",
       "Madiha                32        35        93          160  Fails   53.333333   \n",
       "Sifat                 89        87        78          254   Pass   84.666667   \n",
       "Meraj                 86        85        67          238  Fails   79.333333   \n",
       "Hamza                 85        45        87          217  Fails   72.333333   \n",
       "Zahra                  4         5         6            7      5    6.000000   \n",
       "\n",
       "        Status2  \n",
       "Mahnoor   Fails  \n",
       "Laaebba   Fails  \n",
       "Rida       Pass  \n",
       "Neha      Fails  \n",
       "Madiha    Fails  \n",
       "Sifat      Pass  \n",
       "Meraj      Pass  \n",
       "Hamza      Pass  \n",
       "Zahra         7  "
      ]
     },
     "execution_count": 396,
     "metadata": {},
     "output_type": "execute_result"
    }
   ],
   "source": [
    "df"
   ]
  },
  {
   "cell_type": "code",
   "execution_count": null,
   "metadata": {},
   "outputs": [],
   "source": []
  }
 ],
 "metadata": {
  "kernelspec": {
   "display_name": "Python 3",
   "language": "python",
   "name": "python3"
  },
  "language_info": {
   "codemirror_mode": {
    "name": "ipython",
    "version": 3
   },
   "file_extension": ".py",
   "mimetype": "text/x-python",
   "name": "python",
   "nbconvert_exporter": "python",
   "pygments_lexer": "ipython3",
   "version": "3.7.3"
  }
 },
 "nbformat": 4,
 "nbformat_minor": 2
}
